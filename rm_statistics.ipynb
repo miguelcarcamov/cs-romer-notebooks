{
 "cells": [
  {
   "cell_type": "code",
   "execution_count": 1,
   "id": "daa033e5",
   "metadata": {
    "ExecuteTime": {
     "end_time": "2022-07-06T13:06:11.040651Z",
     "start_time": "2022-07-06T13:06:09.908701Z"
    }
   },
   "outputs": [],
   "source": [
    "import astropy.units as un\n",
    "import matplotlib.pyplot as plt\n",
    "import numpy as np\n",
    "from astropy.coordinates import SkyCoord\n",
    "from astropy.cosmology import Planck18\n",
    "from astropy.io import fits\n",
    "from astropy.stats import median_absolute_deviation as mad\n",
    "from astropy.units import Quantity\n",
    "from astropy.wcs import WCS\n",
    "from mpl_toolkits.axes_grid1 import make_axes_locatable"
   ]
  },
  {
   "cell_type": "code",
   "execution_count": 2,
   "id": "91c94b2b",
   "metadata": {
    "ExecuteTime": {
     "end_time": "2022-07-06T13:06:11.046179Z",
     "start_time": "2022-07-06T13:06:11.042155Z"
    }
   },
   "outputs": [],
   "source": [
    "def get_lims(wcs: WCS = None, radius: Quantity = None, center_coord: SkyCoord = None):\n",
    "    if isinstance(radius, Quantity):\n",
    "        if radius.isscalar:\n",
    "            radius_x = radius_y = radius\n",
    "        else:\n",
    "            radius_x = radius[0]\n",
    "            radius_y = radius[1]\n",
    "\n",
    "    else:\n",
    "        if isinstance(radius, list):\n",
    "            radius_x = radius[0] * un.deg\n",
    "            radius_y = radius[1] * un.deg\n",
    "        else:\n",
    "            radius_x = radius_y = radius * un.deg\n",
    "\n",
    "    left_corner = SkyCoord(ra=center_coord.ra - radius_x, dec=center_coord.dec - radius_y)\n",
    "    right_corner = SkyCoord(ra=center_coord.ra + radius_x, dec=center_coord.dec + radius_y)\n",
    "    left, up = left_corner.to_pixel(wcs, origin=0)\n",
    "    right, down = right_corner.to_pixel(wcs, origin=0)\n",
    "    xlim = [int(right), int(left)]\n",
    "    ylim = [int(up), int(down)]\n",
    "    return xlim, ylim"
   ]
  },
  {
   "cell_type": "code",
   "execution_count": 33,
   "id": "00f39775",
   "metadata": {
    "ExecuteTime": {
     "end_time": "2022-07-06T13:06:11.180449Z",
     "start_time": "2022-07-06T13:06:11.047859Z"
    }
   },
   "outputs": [],
   "source": [
    "rm_hdu = fits.open(\n",
    "    \"/home/miguel/Documents/datasets/A1314_JVLA/mfs/rm_images/delta_wavelet_56/max_faraday_depth.fits\"\n",
    ")[0]\n",
    "p_hdu = fits.open(\n",
    "    \"/home/miguel/Documents/datasets/A1314_JVLA/mfs/rm_images/delta_wavelet_56/max_rotated_intensity.fits\"\n",
    ")[0]\n",
    "sigma_qu_hdu = fits.open(\n",
    "    \"/home/miguel/Documents/datasets/A1314_JVLA/mfs/rm_images/delta_wavelet_56/sigma_qu_faraday.fits\"\n",
    ")[0]\n",
    "sigma_phi_hdu = fits.open(\n",
    "    \"/home/miguel/Documents/datasets/A1314_JVLA/mfs/rm_images/delta_wavelet_56/sigma_phi_peak.fits\"\n",
    ")[0]"
   ]
  },
  {
   "cell_type": "code",
   "execution_count": 34,
   "id": "43dab090",
   "metadata": {
    "ExecuteTime": {
     "end_time": "2022-07-06T13:06:11.275372Z",
     "start_time": "2022-07-06T13:06:11.182543Z"
    }
   },
   "outputs": [],
   "source": [
    "cluster_center_coord = SkyCoord(ra=173.714 * un.deg, dec=49.091 * un.deg, frame=\"fk5\")"
   ]
  },
  {
   "cell_type": "code",
   "execution_count": 35,
   "id": "db0b06b6",
   "metadata": {
    "ExecuteTime": {
     "end_time": "2022-07-06T13:06:11.406988Z",
     "start_time": "2022-07-06T13:06:11.277205Z"
    }
   },
   "outputs": [],
   "source": [
    "center_coord = SkyCoord(ra=173.705 * un.deg,dec=49.077 *un.deg, frame=\"fk5\") # Center Source 10\n",
    "#center_coord = SkyCoord(ra=173.479 * un.deg,dec=49.064 *un.deg, frame=\"fk5\") # C-W Source 3\n",
    "#center_coord = SkyCoord(ra=173.654 * un.deg, dec=48.978 * un.deg, frame=\"fk5\")  # C-S Extended 9\n",
    "#center_coord = SkyCoord(ra=173.453 * un.deg,dec=48.985 *un.deg, frame=\"fk5\") # S-W Source 1\n",
    "#center_coord = SkyCoord(ra=173.803 * un.deg,dec=48.966 *un.deg, frame=\"fk5\") # S-E Source 13#"
   ]
  },
  {
   "cell_type": "code",
   "execution_count": 36,
   "id": "38c8e057",
   "metadata": {
    "ExecuteTime": {
     "end_time": "2022-07-06T13:06:11.505720Z",
     "start_time": "2022-07-06T13:06:11.408144Z"
    }
   },
   "outputs": [],
   "source": [
    "# Centers based on core centers\n",
    "#center_coord = SkyCoord(ra=173.705 * un.deg,dec=49.077 *un.deg, frame=\"fk5\") # Center Source 10*\n",
    "#center_coord = SkyCoord(ra=173.496 * un.deg,dec=49.062 *un.deg, frame=\"fk5\") # C-W Source 3*\n",
    "#center_coord = SkyCoord(ra=173.693 * un.deg,dec=48.956 *un.deg, frame=\"fk5\") # C-S Extended 9*\n",
    "#center_coord = SkyCoord(ra=173.453 * un.deg,dec=48.985 *un.deg, frame=\"fk5\") # S-W Source 1 *\n",
    "#center_coord = SkyCoord(ra=173.803 * un.deg,dec=48.966 *un.deg, frame=\"fk5\") # S-E Source 13*\n",
    "#center_coord = SkyCoord(ra=173.521 * un.deg,dec=49.106 *un.deg, frame=\"fk5\") # 5*\n",
    "#center_coord = SkyCoord(ra=173.762 * un.deg,dec=49.193 *un.deg, frame=\"fk5\") # 12*\n",
    "#center_coord = SkyCoord(ra=173.943 * un.deg, dec=48.921 * un.deg, frame=\"fk5\")  # 15*"
   ]
  },
  {
   "cell_type": "code",
   "execution_count": 37,
   "id": "a2771671",
   "metadata": {
    "ExecuteTime": {
     "end_time": "2022-07-06T13:06:11.752827Z",
     "start_time": "2022-07-06T13:06:11.507271Z"
    }
   },
   "outputs": [],
   "source": [
    "dist_to_center = center_coord.separation(cluster_center_coord)"
   ]
  },
  {
   "cell_type": "code",
   "execution_count": 38,
   "id": "d67ef418",
   "metadata": {
    "ExecuteTime": {
     "end_time": "2022-07-06T13:06:11.856492Z",
     "start_time": "2022-07-06T13:06:11.753959Z"
    }
   },
   "outputs": [
    {
     "data": {
      "text/latex": [
       "$54.685163 \\; \\mathrm{{}^{\\prime\\prime}}$"
      ],
      "text/plain": [
       "<Quantity 54.68516322 arcsec>"
      ]
     },
     "execution_count": 38,
     "metadata": {},
     "output_type": "execute_result"
    }
   ],
   "source": [
    "dist_to_center.arcsec * un.arcsec"
   ]
  },
  {
   "cell_type": "code",
   "execution_count": 39,
   "id": "7328296f",
   "metadata": {
    "ExecuteTime": {
     "end_time": "2022-07-06T13:06:11.954807Z",
     "start_time": "2022-07-06T13:06:11.858607Z"
    }
   },
   "outputs": [],
   "source": [
    "redshift_z = 0.034  # X-Ray Center\n",
    "#redshift_z = 0.033 # Center Source\n",
    "#redshift_z = 0.032 # C-W Source\n",
    "#redshift_z = 0.032 # C-S Extended"
   ]
  },
  {
   "cell_type": "code",
   "execution_count": 40,
   "id": "d39d6115",
   "metadata": {
    "ExecuteTime": {
     "end_time": "2022-07-06T13:06:12.109230Z",
     "start_time": "2022-07-06T13:06:11.956601Z"
    }
   },
   "outputs": [],
   "source": [
    "dist = Planck18.comoving_distance(redshift_z)\n",
    "scale = Planck18.arcsec_per_kpc_comoving(redshift_z)"
   ]
  },
  {
   "cell_type": "code",
   "execution_count": 41,
   "id": "59d49ded",
   "metadata": {
    "ExecuteTime": {
     "end_time": "2022-07-06T13:06:12.206109Z",
     "start_time": "2022-07-06T13:06:12.113888Z"
    }
   },
   "outputs": [],
   "source": [
    "dist_kpc = dist_to_center.arcsecond * un.arcsec / scale"
   ]
  },
  {
   "cell_type": "code",
   "execution_count": 42,
   "id": "8ed22e61",
   "metadata": {
    "ExecuteTime": {
     "end_time": "2022-07-06T13:06:12.304627Z",
     "start_time": "2022-07-06T13:06:12.207884Z"
    }
   },
   "outputs": [
    {
     "data": {
      "text/latex": [
       "$39.621373 \\; \\mathrm{kpc}$"
      ],
      "text/plain": [
       "<Quantity 39.62137268 kpc>"
      ]
     },
     "execution_count": 42,
     "metadata": {},
     "output_type": "execute_result"
    }
   ],
   "source": [
    "dist_kpc"
   ]
  },
  {
   "cell_type": "code",
   "execution_count": 43,
   "id": "86927f35",
   "metadata": {
    "ExecuteTime": {
     "end_time": "2022-07-06T13:06:12.485875Z",
     "start_time": "2022-07-06T13:06:12.305473Z"
    }
   },
   "outputs": [
    {
     "name": "stderr",
     "output_type": "stream",
     "text": [
      "WARNING: FITSFixedWarning: 'obsfix' made the change 'Set OBSGEO-L to  -107.618000 from OBSGEO-[XYZ].\n",
      "Set OBSGEO-B to    34.078827 from OBSGEO-[XYZ].\n",
      "Set OBSGEO-H to     2115.607 from OBSGEO-[XYZ]'. [astropy.wcs.wcs]\n"
     ]
    }
   ],
   "source": [
    "wcs = WCS(rm_hdu.header, naxis=2)"
   ]
  },
  {
   "cell_type": "code",
   "execution_count": 44,
   "id": "799fef8a",
   "metadata": {
    "ExecuteTime": {
     "end_time": "2022-07-06T13:06:12.582150Z",
     "start_time": "2022-07-06T13:06:12.487163Z"
    }
   },
   "outputs": [],
   "source": [
    "rm = rm_hdu.data\n",
    "p = p_hdu.data\n",
    "sigma_qu = sigma_qu_hdu.data\n",
    "sigma_phi = sigma_phi_hdu.data"
   ]
  },
  {
   "cell_type": "code",
   "execution_count": 45,
   "id": "294baf8b",
   "metadata": {
    "ExecuteTime": {
     "end_time": "2022-07-06T13:06:12.698834Z",
     "start_time": "2022-07-06T13:06:12.583683Z"
    }
   },
   "outputs": [],
   "source": [
    "rm = np.where(p > 6 * sigma_qu, rm, np.nan)\n",
    "sigma_phi = np.where(p > 6 * sigma_qu, sigma_phi, np.nan)\n",
    "sigma_qu = np.where(p > 6 * sigma_qu, sigma_qu, np.nan)"
   ]
  },
  {
   "cell_type": "code",
   "execution_count": 46,
   "id": "c7956ef8",
   "metadata": {
    "ExecuteTime": {
     "end_time": "2022-07-06T13:06:12.784540Z",
     "start_time": "2022-07-06T13:06:12.700644Z"
    }
   },
   "outputs": [],
   "source": [
    "x_lim, y_lim = get_lims(wcs, radius=0.01 * un.deg, center_coord=center_coord)"
   ]
  },
  {
   "cell_type": "code",
   "execution_count": 47,
   "id": "c878f1d0",
   "metadata": {
    "ExecuteTime": {
     "end_time": "2022-07-06T13:06:12.887218Z",
     "start_time": "2022-07-06T13:06:12.785945Z"
    }
   },
   "outputs": [],
   "source": [
    "rm = rm[y_lim[0]:y_lim[1], x_lim[0]:x_lim[1]]\n",
    "sigma_phi = sigma_phi[y_lim[0]:y_lim[1], x_lim[0]:x_lim[1]]\n",
    "p = p[y_lim[0]:y_lim[1], x_lim[0]:x_lim[1]]\n",
    "sigma_qu = sigma_qu[y_lim[0]:y_lim[1], x_lim[0]:x_lim[1]]"
   ]
  },
  {
   "cell_type": "code",
   "execution_count": 48,
   "id": "8519bbf8",
   "metadata": {
    "ExecuteTime": {
     "end_time": "2022-07-06T13:06:13.343772Z",
     "start_time": "2022-07-06T13:06:12.889347Z"
    }
   },
   "outputs": [
    {
     "data": {
      "text/plain": [
       "<matplotlib.colorbar.Colorbar at 0x7f2db456b0a0>"
      ]
     },
     "execution_count": 48,
     "metadata": {},
     "output_type": "execute_result"
    },
    {
     "data": {
      "image/png": "[encoded data removed]",
      "text/plain": [
       "<Figure size 640x480 with 2 Axes>"
      ]
     },
     "metadata": {},
     "output_type": "display_data"
    }
   ],
   "source": [
    "fig = plt.figure()\n",
    "ax = plt.subplot(projection=wcs)\n",
    "im = ax.imshow(p)\n",
    "#ax.set_xlim(x_lim[1], x_lim[0])\n",
    "#ax.set_ylim(y_lim[1], y_lim[0])\n",
    "fig.colorbar(im, ax=ax, orientation='vertical')"
   ]
  },
  {
   "cell_type": "code",
   "execution_count": 49,
   "id": "55ca5d04",
   "metadata": {
    "ExecuteTime": {
     "end_time": "2022-07-06T13:06:13.480539Z",
     "start_time": "2022-07-06T13:06:13.345206Z"
    }
   },
   "outputs": [
    {
     "data": {
      "text/plain": [
       "<matplotlib.colorbar.Colorbar at 0x7f2db3bde860>"
      ]
     },
     "execution_count": 49,
     "metadata": {},
     "output_type": "execute_result"
    },
    {
     "data": {
      "image/png": "[encoded data removed]",
      "text/plain": [
       "<Figure size 640x480 with 2 Axes>"
      ]
     },
     "metadata": {},
     "output_type": "display_data"
    }
   ],
   "source": [
    "fig = plt.figure()\n",
    "ax = plt.subplot(projection=wcs)\n",
    "im = ax.imshow(rm)\n",
    "#ax.set_xlim(x_lim[1], x_lim[0])\n",
    "#ax.set_ylim(y_lim[1], y_lim[0])\n",
    "fig.colorbar(im, ax=ax, orientation='vertical')"
   ]
  },
  {
   "cell_type": "code",
   "execution_count": 50,
   "id": "62c7875f",
   "metadata": {
    "ExecuteTime": {
     "end_time": "2022-07-06T13:06:13.636889Z",
     "start_time": "2022-07-06T13:06:13.481804Z"
    }
   },
   "outputs": [
    {
     "data": {
      "text/plain": [
       "<matplotlib.colorbar.Colorbar at 0x7f2db1df15a0>"
      ]
     },
     "execution_count": 50,
     "metadata": {},
     "output_type": "execute_result"
    },
    {
     "data": {
      "image/png": "[encoded data removed]",
      "text/plain": [
       "<Figure size 640x480 with 2 Axes>"
      ]
     },
     "metadata": {},
     "output_type": "display_data"
    }
   ],
   "source": [
    "fig = plt.figure()\n",
    "ax = plt.subplot(projection=wcs)\n",
    "ax.imshow(sigma_phi)\n",
    "#ax.set_xlim(x_lim[1], x_lim[0])\n",
    "#ax.set_ylim(y_lim[1], y_lim[0])\n",
    "fig.colorbar(im, ax=ax, orientation='vertical')"
   ]
  },
  {
   "cell_type": "code",
   "execution_count": 51,
   "id": "3e66ab96",
   "metadata": {
    "ExecuteTime": {
     "end_time": "2022-07-06T13:06:13.641233Z",
     "start_time": "2022-07-06T13:06:13.638130Z"
    }
   },
   "outputs": [
    {
     "data": {
      "text/plain": [
       "array([13.66711254, 13.66711254,  6.83355627,  6.83355627, 13.66711254,\n",
       "       13.66711254, 13.66711254, 13.66711254, 13.66711254,  6.83355627,\n",
       "        6.83355627,  6.83355627, 13.66711254, 13.66711254, 13.66711254,\n",
       "       13.66711254, 13.66711254,  0.        ,  6.83355627,  6.83355627,\n",
       "        6.83355627, 13.66711254, 13.66711254, 13.66711254, 13.66711254,\n",
       "       13.66711254,  0.        ,  6.83355627,  6.83355627,  6.83355627,\n",
       "        6.83355627, 13.66711254, 13.66711254, 13.66711254, 13.66711254,\n",
       "        0.        ,  0.        ,  6.83355627,  6.83355627,  6.83355627,\n",
       "       13.66711254, 13.66711254, 13.66711254, 13.66711254,  0.        ,\n",
       "        6.83355627,  6.83355627,  6.83355627,  6.83355627, 13.66711254,\n",
       "       13.66711254, 13.66711254,  0.        ,  6.83355627,  6.83355627,\n",
       "        6.83355627,  6.83355627,  6.83355627, 13.66711254,  6.83355627,\n",
       "        6.83355627,  6.83355627,  6.83355627,  6.83355627])"
      ]
     },
     "execution_count": 51,
     "metadata": {},
     "output_type": "execute_result"
    }
   ],
   "source": [
    "rm[~np.isnan(rm)]"
   ]
  },
  {
   "cell_type": "code",
   "execution_count": 52,
   "id": "63a452e5",
   "metadata": {
    "ExecuteTime": {
     "end_time": "2022-07-06T13:06:13.749342Z",
     "start_time": "2022-07-06T13:06:13.642272Z"
    }
   },
   "outputs": [
    {
     "data": {
      "text/plain": [
       "array([1.76534076, 1.71846551, 1.58939874, 1.48867207, 1.42344321,\n",
       "       1.3686418 , 1.33760379, 1.33134584, 1.34786596, 1.30296175,\n",
       "       1.19989175, 1.14940997, 1.10653442, 1.08938171, 1.09438021,\n",
       "       1.11750068, 1.1641487 , 1.36453428, 1.16229588, 1.04015338,\n",
       "       0.98058908, 0.95288034, 0.94679311, 0.96457018, 1.00108522,\n",
       "       1.06190905, 1.36664915, 1.1460169 , 0.99342255, 0.91507522,\n",
       "       0.89169006, 0.89410512, 0.92542994, 0.98240492, 1.06887132,\n",
       "       1.4585936 , 1.22108069, 1.04031338, 0.93834324, 0.90310269,\n",
       "       0.91662436, 0.96018937, 1.04190693, 1.16536433, 1.35786487,\n",
       "       1.16077209, 1.03536521, 0.98161261, 0.99166276, 1.05231409,\n",
       "       1.16160614, 1.33124333, 1.55241607, 1.34312447, 1.19483604,\n",
       "       1.11893518, 1.11656742, 1.18958193, 1.33228487, 1.59729652,\n",
       "       1.4278583 , 1.32738773, 1.30569117, 1.38005139])"
      ]
     },
     "execution_count": 52,
     "metadata": {},
     "output_type": "execute_result"
    }
   ],
   "source": [
    "sigma_phi[~np.isnan(sigma_phi)]"
   ]
  },
  {
   "cell_type": "code",
   "execution_count": 53,
   "id": "796a5401",
   "metadata": {
    "ExecuteTime": {
     "end_time": "2022-07-06T13:06:13.853828Z",
     "start_time": "2022-07-06T13:06:13.750548Z"
    }
   },
   "outputs": [],
   "source": [
    "dx = rm_hdu.header[\"CDELT1\"] * un.deg\n",
    "dy = rm_hdu.header[\"CDELT2\"] * un.deg"
   ]
  },
  {
   "cell_type": "code",
   "execution_count": 54,
   "id": "81d26ff1",
   "metadata": {
    "ExecuteTime": {
     "end_time": "2022-07-06T13:06:14.023615Z",
     "start_time": "2022-07-06T13:06:13.856276Z"
    }
   },
   "outputs": [],
   "source": [
    "npixels = np.count_nonzero(~np.isnan(rm))"
   ]
  },
  {
   "cell_type": "code",
   "execution_count": 55,
   "id": "016c52cb",
   "metadata": {
    "ExecuteTime": {
     "end_time": "2022-07-06T13:06:14.129560Z",
     "start_time": "2022-07-06T13:06:14.025896Z"
    }
   },
   "outputs": [],
   "source": [
    "bmaj = 12.381457328796387 * un.arcsec\n",
    "bmin = 11.684733390808105 * un.arcsec\n",
    "area_pixels = np.pi * bmaj.to(un.deg) * bmin.to(un.deg) / (4. * np.log(2)) / (-dx * dy)\n",
    "nbeams = npixels / area_pixels"
   ]
  },
  {
   "cell_type": "code",
   "execution_count": 56,
   "id": "5c419d12",
   "metadata": {
    "ExecuteTime": {
     "end_time": "2022-07-06T13:06:14.235173Z",
     "start_time": "2022-07-06T13:06:14.131953Z"
    }
   },
   "outputs": [
    {
     "data": {
      "text/plain": [
       "(55, 36)"
      ]
     },
     "execution_count": 56,
     "metadata": {},
     "output_type": "execute_result"
    }
   ],
   "source": [
    "sigma_phi.shape"
   ]
  },
  {
   "cell_type": "code",
   "execution_count": 57,
   "id": "016991cc",
   "metadata": {
    "ExecuteTime": {
     "end_time": "2022-07-06T13:06:14.340561Z",
     "start_time": "2022-07-06T13:06:14.237537Z"
    }
   },
   "outputs": [],
   "source": [
    "pos_max = np.unravel_index(np.nanargmax(p), shape=p.shape)\n",
    "max_rm = rm[pos_max]\n",
    "sigma_phi_at_max = sigma_phi[pos_max]\n",
    "avg_rm = np.nanmean(rm)\n",
    "med_rm = np.nanmedian(rm)\n",
    "mad_rm = np.nanmedian(np.abs(rm - np.nanmedian(rm)))\n",
    "sigma_rm_obs = np.nanstd(rm)\n",
    "med_sigma_phi = np.nanmedian(sigma_phi)\n",
    "sigma_rm = np.sqrt(sigma_rm_obs**2 - med_sigma_phi**2)"
   ]
  },
  {
   "cell_type": "code",
   "execution_count": 58,
   "id": "89dae14b",
   "metadata": {
    "ExecuteTime": {
     "end_time": "2022-07-06T13:06:14.444453Z",
     "start_time": "2022-07-06T13:06:14.342586Z"
    }
   },
   "outputs": [],
   "source": [
    "mean_error = sigma_rm_obs / np.sqrt(nbeams)\n",
    "sigma_error = sigma_rm / np.sqrt(nbeams)"
   ]
  },
  {
   "cell_type": "code",
   "execution_count": 59,
   "id": "ab3725f9",
   "metadata": {
    "ExecuteTime": {
     "end_time": "2022-07-06T13:06:14.550489Z",
     "start_time": "2022-07-06T13:06:14.446803Z"
    },
    "scrolled": true
   },
   "outputs": [
    {
     "name": "stdout",
     "output_type": "stream",
     "text": [
      "RM at max(P): 13.667\n",
      "sigma phi at max(P): 0.894\n",
      "<RM> : 9.289\n",
      "sigma(RM): 4.263\n",
      "med(RM): 6.834\n",
      "MAD(RM): 6.834\n",
      "med(sigma_phi): 1.155\n",
      "nbeams: 0.660\n",
      "sigma(RM)_obs:  4.417\n",
      "mean error:  5.437\n",
      "sigma error:  5.248\n"
     ]
    }
   ],
   "source": [
    "print(\"RM at max(P): {0:.3f}\".format(max_rm))\n",
    "print(\"sigma phi at max(P): {0:.3f}\".format(sigma_phi_at_max))\n",
    "print(\"<RM> : {0:.3f}\".format(avg_rm))\n",
    "print(\"sigma(RM): {0:.3f}\".format(sigma_rm))\n",
    "print(\"med(RM): {0:.3f}\".format(med_rm))\n",
    "print(\"MAD(RM): {0:.3f}\".format(mad_rm))\n",
    "print(\"med(sigma_phi): {0:.3f}\".format(med_sigma_phi))\n",
    "print(\"nbeams: {0:.3f}\".format(nbeams))\n",
    "print(\"sigma(RM)_obs: {0: .3f}\".format(sigma_rm_obs))\n",
    "print(\"mean error: {0: .3f}\".format(mean_error))\n",
    "print(\"sigma error: {0: .3f}\".format(sigma_error))"
   ]
  },
  {
   "cell_type": "code",
   "execution_count": 30,
   "id": "efb54efd",
   "metadata": {
    "ExecuteTime": {
     "end_time": "2022-07-06T13:06:14.656579Z",
     "start_time": "2022-07-06T13:06:14.553299Z"
    }
   },
   "outputs": [
    {
     "data": {
      "text/plain": [
       "41.1795260163382"
      ]
     },
     "execution_count": 30,
     "metadata": {},
     "output_type": "execute_result"
    }
   ],
   "source": [
    "sigma_rm_obs**2"
   ]
  },
  {
   "cell_type": "code",
   "execution_count": 31,
   "id": "a0ae3d88",
   "metadata": {
    "ExecuteTime": {
     "end_time": "2022-07-06T13:06:14.761674Z",
     "start_time": "2022-07-06T13:06:14.658862Z"
    }
   },
   "outputs": [
    {
     "data": {
      "text/plain": [
       "-1.6451696380667844"
      ]
     },
     "execution_count": 31,
     "metadata": {},
     "output_type": "execute_result"
    }
   ],
   "source": [
    "-med_sigma_phi**2"
   ]
  },
  {
   "cell_type": "code",
   "execution_count": 32,
   "id": "135d2d65",
   "metadata": {
    "ExecuteTime": {
     "end_time": "2022-07-06T13:06:14.865500Z",
     "start_time": "2022-07-06T13:06:14.764014Z"
    }
   },
   "outputs": [],
   "source": [
    "sigma_rm = np.sqrt(sigma_rm_obs**2 - med_sigma_phi**2)"
   ]
  },
  {
   "cell_type": "code",
   "execution_count": null,
   "id": "c090ad63-56fd-4df5-bbc4-d8a9ea531f7c",
   "metadata": {},
   "outputs": [],
   "source": []
  }
 ],
 "metadata": {
  "kernelspec": {
   "display_name": "Python 3 (ipykernel)",
   "language": "python",
   "name": "python3"
  },
  "language_info": {
   "codemirror_mode": {
    "name": "ipython",
    "version": 3
   },
   "file_extension": ".py",
   "mimetype": "text/x-python",
   "name": "python",
   "nbconvert_exporter": "python",
   "pygments_lexer": "ipython3",
   "version": "3.10.9"
  },
  "latex_envs": {
   "LaTeX_envs_menu_present": true,
   "autoclose": false,
   "autocomplete": true,
   "bibliofile": "biblio.bib",
   "cite_by": "apalike",
   "current_citInitial": 1,
   "eqLabelWithNumbers": true,
   "eqNumInitial": 1,
   "hotkeys": {
    "equation": "Ctrl-E",
    "itemize": "Ctrl-I"
   },
   "labels_anchors": false,
   "latex_user_defs": false,
   "report_style_numbering": false,
   "user_envs_cfg": false
  },
  "varInspector": {
   "cols": {
    "lenName": 16,
    "lenType": 16,
    "lenVar": 40
   },
   "kernels_config": {
    "python": {
     "delete_cmd_postfix": "",
     "delete_cmd_prefix": "del ",
     "library": "var_list.py",
     "varRefreshCmd": "print(var_dic_list())"
    },
    "r": {
     "delete_cmd_postfix": ") ",
     "delete_cmd_prefix": "rm(",
     "library": "var_list.r",
     "varRefreshCmd": "cat(var_dic_list()) "
    }
   },
   "types_to_exclude": [
    "module",
    "function",
    "builtin_function_or_method",
    "instance",
    "_Feature"
   ],
   "window_display": false
  }
 },
 "nbformat": 4,
 "nbformat_minor": 5
}
