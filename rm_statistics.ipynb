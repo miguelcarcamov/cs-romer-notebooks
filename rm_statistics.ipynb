{
 "cells": [
  {
   "cell_type": "code",
   "execution_count": 1,
   "id": "daa033e5",
   "metadata": {
    "ExecuteTime": {
     "end_time": "2022-07-06T13:06:11.040651Z",
     "start_time": "2022-07-06T13:06:09.908701Z"
    }
   },
   "outputs": [],
   "source": [
    "import astropy.units as un\n",
    "import matplotlib.pyplot as plt\n",
    "import numpy as np\n",
    "from astropy.coordinates import SkyCoord\n",
    "from astropy.cosmology import Planck18\n",
    "from astropy.io import fits\n",
    "from astropy.stats import median_absolute_deviation as mad\n",
    "from astropy.units import Quantity\n",
    "from astropy.wcs import WCS\n",
    "from mpl_toolkits.axes_grid1 import make_axes_locatable"
   ]
  },
  {
   "cell_type": "code",
   "execution_count": 2,
   "id": "91c94b2b",
   "metadata": {
    "ExecuteTime": {
     "end_time": "2022-07-06T13:06:11.046179Z",
     "start_time": "2022-07-06T13:06:11.042155Z"
    }
   },
   "outputs": [],
   "source": [
    "def get_lims(wcs: WCS = None, radius: Quantity = None, center_coord: SkyCoord = None):\n",
    "    if isinstance(radius, Quantity):\n",
    "        if radius.isscalar:\n",
    "            radius_x = radius_y = radius\n",
    "        else:\n",
    "            radius_x = radius[0]\n",
    "            radius_y = radius[1]\n",
    "\n",
    "    else:\n",
    "        if isinstance(radius, list):\n",
    "            radius_x = radius[0] * un.deg\n",
    "            radius_y = radius[1] * un.deg\n",
    "        else:\n",
    "            radius_x = radius_y = radius * un.deg\n",
    "\n",
    "    left_corner = SkyCoord(ra=center_coord.ra - radius_x, dec=center_coord.dec - radius_y)\n",
    "    right_corner = SkyCoord(ra=center_coord.ra + radius_x, dec=center_coord.dec + radius_y)\n",
    "    left, up = left_corner.to_pixel(wcs, origin=0)\n",
    "    right, down = right_corner.to_pixel(wcs, origin=0)\n",
    "    xlim = [int(right), int(left)]\n",
    "    ylim = [int(up), int(down)]\n",
    "    return xlim, ylim"
   ]
  },
  {
   "cell_type": "code",
   "execution_count": 3,
   "id": "00f39775",
   "metadata": {
    "ExecuteTime": {
     "end_time": "2022-07-06T13:06:11.180449Z",
     "start_time": "2022-07-06T13:06:11.047859Z"
    }
   },
   "outputs": [],
   "source": [
    "rm_hdu = fits.open(\n",
    "    \"/home/miguel/Documents/datasets/A1314_JVLA/mfs/non_corrected/max_faraday_depth.fits\"\n",
    ")[0]\n",
    "p_hdu = fits.open(\n",
    "    \"/home/miguel/Documents/datasets/A1314_JVLA/mfs/non_corrected/max_rotated_intensity.fits\"\n",
    ")[0]\n",
    "sigma_qu_hdu = fits.open(\n",
    "    \"/home/miguel/Documents/datasets/A1314_JVLA/mfs/non_corrected/sigma_phi_faraday.fits\"\n",
    ")[0]\n",
    "sigma_phi_hdu = fits.open(\n",
    "    \"/home/miguel/Documents/datasets/A1314_JVLA/mfs/non_corrected/sigma_phi_peak.fits\"\n",
    ")[0]"
   ]
  },
  {
   "cell_type": "code",
   "execution_count": 4,
   "id": "43dab090",
   "metadata": {
    "ExecuteTime": {
     "end_time": "2022-07-06T13:06:11.275372Z",
     "start_time": "2022-07-06T13:06:11.182543Z"
    }
   },
   "outputs": [],
   "source": [
    "cluster_center_coord = SkyCoord(ra=173.714 * un.deg, dec=49.091 * un.deg, frame=\"fk5\")"
   ]
  },
  {
   "cell_type": "code",
   "execution_count": 5,
   "id": "db0b06b6",
   "metadata": {
    "ExecuteTime": {
     "end_time": "2022-07-06T13:06:11.406988Z",
     "start_time": "2022-07-06T13:06:11.277205Z"
    }
   },
   "outputs": [],
   "source": [
    "#center_coord = SkyCoord(ra=173.705 * un.deg,dec=49.077 *un.deg, frame=\"fk5\") # Center Source 10\n",
    "#center_coord = SkyCoord(ra=173.479 * un.deg,dec=49.064 *un.deg, frame=\"fk5\") # C-W Source 3\n",
    "#center_coord = SkyCoord(ra=173.654 * un.deg, dec=48.978 * un.deg, frame=\"fk5\")  # C-S Extended 9\n",
    "#center_coord = SkyCoord(ra=173.453 * un.deg,dec=48.985 *un.deg, frame=\"fk5\") # S-W Source 1\n",
    "#center_coord = SkyCoord(ra=173.803 * un.deg,dec=48.966 *un.deg, frame=\"fk5\") # S-E Source 13"
   ]
  },
  {
   "cell_type": "code",
   "execution_count": 6,
   "id": "38c8e057",
   "metadata": {
    "ExecuteTime": {
     "end_time": "2022-07-06T13:06:11.505720Z",
     "start_time": "2022-07-06T13:06:11.408144Z"
    }
   },
   "outputs": [],
   "source": [
    "# Centers based on core centers\n",
    "#center_coord = SkyCoord(ra=173.705 * un.deg,dec=49.077 *un.deg, frame=\"fk5\") # Center Source 10*\n",
    "#center_coord = SkyCoord(ra=173.496 * un.deg,dec=49.062 *un.deg, frame=\"fk5\") # C-W Source 3*\n",
    "#center_coord = SkyCoord(ra=173.693 * un.deg,dec=48.956 *un.deg, frame=\"fk5\") # C-S Extended 9*\n",
    "#center_coord = SkyCoord(ra=173.453 * un.deg,dec=48.985 *un.deg, frame=\"fk5\") # S-W Source 1 *\n",
    "#center_coord = SkyCoord(ra=173.803 * un.deg,dec=48.966 *un.deg, frame=\"fk5\") # S-E Source 13*\n",
    "#center_coord = SkyCoord(ra=173.521 * un.deg,dec=49.106 *un.deg, frame=\"fk5\") # 5*\n",
    "#center_coord = SkyCoord(ra=173.762 * un.deg,dec=49.193 *un.deg, frame=\"fk5\") # 12*\n",
    "center_coord = SkyCoord(ra=173.943 * un.deg, dec=48.921 * un.deg, frame=\"fk5\")  # 15*"
   ]
  },
  {
   "cell_type": "code",
   "execution_count": 7,
   "id": "a2771671",
   "metadata": {
    "ExecuteTime": {
     "end_time": "2022-07-06T13:06:11.752827Z",
     "start_time": "2022-07-06T13:06:11.507271Z"
    }
   },
   "outputs": [],
   "source": [
    "dist_to_center = center_coord.separation(cluster_center_coord)"
   ]
  },
  {
   "cell_type": "code",
   "execution_count": 8,
   "id": "d67ef418",
   "metadata": {
    "ExecuteTime": {
     "end_time": "2022-07-06T13:06:11.856492Z",
     "start_time": "2022-07-06T13:06:11.753959Z"
    }
   },
   "outputs": [
    {
     "data": {
      "text/latex": [
       "$816.6985 \\; \\mathrm{{}^{\\prime\\prime}}$"
      ],
      "text/plain": [
       "<Quantity 816.69849618 arcsec>"
      ]
     },
     "execution_count": 8,
     "metadata": {},
     "output_type": "execute_result"
    }
   ],
   "source": [
    "dist_to_center.arcsec * un.arcsec"
   ]
  },
  {
   "cell_type": "code",
   "execution_count": 9,
   "id": "7328296f",
   "metadata": {
    "ExecuteTime": {
     "end_time": "2022-07-06T13:06:11.954807Z",
     "start_time": "2022-07-06T13:06:11.858607Z"
    }
   },
   "outputs": [],
   "source": [
    "redshift_z = 0.034  # X-Ray Center\n",
    "#redshift_z = 0.033 # Center Source\n",
    "#redshift_z = 0.032 # C-W Source\n",
    "#redshift_z = 0.032 # C-S Extended"
   ]
  },
  {
   "cell_type": "code",
   "execution_count": 10,
   "id": "d39d6115",
   "metadata": {
    "ExecuteTime": {
     "end_time": "2022-07-06T13:06:12.109230Z",
     "start_time": "2022-07-06T13:06:11.956601Z"
    }
   },
   "outputs": [],
   "source": [
    "dist = Planck18.comoving_distance(redshift_z)\n",
    "scale = Planck18.arcsec_per_kpc_comoving(redshift_z)"
   ]
  },
  {
   "cell_type": "code",
   "execution_count": 11,
   "id": "59d49ded",
   "metadata": {
    "ExecuteTime": {
     "end_time": "2022-07-06T13:06:12.206109Z",
     "start_time": "2022-07-06T13:06:12.113888Z"
    }
   },
   "outputs": [],
   "source": [
    "dist_kpc = dist_to_center.arcsecond * un.arcsec / scale"
   ]
  },
  {
   "cell_type": "code",
   "execution_count": 12,
   "id": "8ed22e61",
   "metadata": {
    "ExecuteTime": {
     "end_time": "2022-07-06T13:06:12.304627Z",
     "start_time": "2022-07-06T13:06:12.207884Z"
    }
   },
   "outputs": [
    {
     "data": {
      "text/latex": [
       "$591.72751 \\; \\mathrm{kpc}$"
      ],
      "text/plain": [
       "<Quantity 591.72751038 kpc>"
      ]
     },
     "execution_count": 12,
     "metadata": {},
     "output_type": "execute_result"
    }
   ],
   "source": [
    "dist_kpc"
   ]
  },
  {
   "cell_type": "code",
   "execution_count": 13,
   "id": "86927f35",
   "metadata": {
    "ExecuteTime": {
     "end_time": "2022-07-06T13:06:12.485875Z",
     "start_time": "2022-07-06T13:06:12.305473Z"
    }
   },
   "outputs": [
    {
     "name": "stderr",
     "output_type": "stream",
     "text": [
      "WARNING: FITSFixedWarning: 'obsfix' made the change 'Set OBSGEO-L to  -107.618000 from OBSGEO-[XYZ].\n",
      "Set OBSGEO-B to    34.078827 from OBSGEO-[XYZ].\n",
      "Set OBSGEO-H to     2115.607 from OBSGEO-[XYZ]'. [astropy.wcs.wcs]\n"
     ]
    }
   ],
   "source": [
    "wcs = WCS(rm_hdu.header, naxis=2)"
   ]
  },
  {
   "cell_type": "code",
   "execution_count": 14,
   "id": "799fef8a",
   "metadata": {
    "ExecuteTime": {
     "end_time": "2022-07-06T13:06:12.582150Z",
     "start_time": "2022-07-06T13:06:12.487163Z"
    }
   },
   "outputs": [],
   "source": [
    "rm = rm_hdu.data\n",
    "p = p_hdu.data\n",
    "sigma_qu = sigma_qu_hdu.data\n",
    "sigma_phi = sigma_phi_hdu.data"
   ]
  },
  {
   "cell_type": "code",
   "execution_count": 15,
   "id": "294baf8b",
   "metadata": {
    "ExecuteTime": {
     "end_time": "2022-07-06T13:06:12.698834Z",
     "start_time": "2022-07-06T13:06:12.583683Z"
    }
   },
   "outputs": [],
   "source": [
    "rm = np.where(p > 6 * sigma_qu, rm, np.nan)\n",
    "sigma_phi = np.where(p > 6 * sigma_qu, sigma_phi, np.nan)\n",
    "sigma_qu = np.where(p > 6 * sigma_qu, sigma_qu, np.nan)"
   ]
  },
  {
   "cell_type": "code",
   "execution_count": 16,
   "id": "c7956ef8",
   "metadata": {
    "ExecuteTime": {
     "end_time": "2022-07-06T13:06:12.784540Z",
     "start_time": "2022-07-06T13:06:12.700644Z"
    }
   },
   "outputs": [],
   "source": [
    "x_lim, y_lim = get_lims(wcs, radius=0.01 * un.deg, center_coord=center_coord)"
   ]
  },
  {
   "cell_type": "code",
   "execution_count": 17,
   "id": "c878f1d0",
   "metadata": {
    "ExecuteTime": {
     "end_time": "2022-07-06T13:06:12.887218Z",
     "start_time": "2022-07-06T13:06:12.785945Z"
    }
   },
   "outputs": [],
   "source": [
    "rm = rm[y_lim[0]:y_lim[1], x_lim[0]:x_lim[1]]\n",
    "sigma_phi = sigma_phi[y_lim[0]:y_lim[1], x_lim[0]:x_lim[1]]\n",
    "p = p[y_lim[0]:y_lim[1], x_lim[0]:x_lim[1]]\n",
    "sigma_qu = sigma_qu[y_lim[0]:y_lim[1], x_lim[0]:x_lim[1]]"
   ]
  },
  {
   "cell_type": "code",
   "execution_count": 18,
   "id": "8519bbf8",
   "metadata": {
    "ExecuteTime": {
     "end_time": "2022-07-06T13:06:13.343772Z",
     "start_time": "2022-07-06T13:06:12.889347Z"
    }
   },
   "outputs": [
    {
     "data": {
      "text/plain": [
       "<matplotlib.colorbar.Colorbar at 0x7fbaa0de7850>"
      ]
     },
     "execution_count": 18,
     "metadata": {},
     "output_type": "execute_result"
    },
    {
     "data": {
      "image/png": "[encoded data removed]",
      "text/plain": [
       "<Figure size 432x288 with 2 Axes>"
      ]
     },
     "metadata": {
      "needs_background": "light"
     },
     "output_type": "display_data"
    }
   ],
   "source": [
    "fig = plt.figure()\n",
    "ax = plt.subplot(projection=wcs)\n",
    "im = ax.imshow(p)\n",
    "#ax.set_xlim(x_lim[1], x_lim[0])\n",
    "#ax.set_ylim(y_lim[1], y_lim[0])\n",
    "fig.colorbar(im, ax=ax, orientation='vertical')"
   ]
  },
  {
   "cell_type": "code",
   "execution_count": 19,
   "id": "55ca5d04",
   "metadata": {
    "ExecuteTime": {
     "end_time": "2022-07-06T13:06:13.480539Z",
     "start_time": "2022-07-06T13:06:13.345206Z"
    }
   },
   "outputs": [
    {
     "data": {
      "text/plain": [
       "<matplotlib.colorbar.Colorbar at 0x7fba9e54be80>"
      ]
     },
     "execution_count": 19,
     "metadata": {},
     "output_type": "execute_result"
    },
    {
     "data": {
      "image/png": "[encoded data removed]",
      "text/plain": [
       "<Figure size 432x288 with 2 Axes>"
      ]
     },
     "metadata": {
      "needs_background": "light"
     },
     "output_type": "display_data"
    }
   ],
   "source": [
    "fig = plt.figure()\n",
    "ax = plt.subplot(projection=wcs)\n",
    "im = ax.imshow(rm)\n",
    "#ax.set_xlim(x_lim[1], x_lim[0])\n",
    "#ax.set_ylim(y_lim[1], y_lim[0])\n",
    "fig.colorbar(im, ax=ax, orientation='vertical')"
   ]
  },
  {
   "cell_type": "code",
   "execution_count": 20,
   "id": "62c7875f",
   "metadata": {
    "ExecuteTime": {
     "end_time": "2022-07-06T13:06:13.636889Z",
     "start_time": "2022-07-06T13:06:13.481804Z"
    }
   },
   "outputs": [
    {
     "data": {
      "text/plain": [
       "<matplotlib.colorbar.Colorbar at 0x7fba9e47c6d0>"
      ]
     },
     "execution_count": 20,
     "metadata": {},
     "output_type": "execute_result"
    },
    {
     "data": {
      "image/png": "[encoded data removed]",
      "text/plain": [
       "<Figure size 432x288 with 2 Axes>"
      ]
     },
     "metadata": {
      "needs_background": "light"
     },
     "output_type": "display_data"
    }
   ],
   "source": [
    "fig = plt.figure()\n",
    "ax = plt.subplot(projection=wcs)\n",
    "ax.imshow(sigma_phi)\n",
    "#ax.set_xlim(x_lim[1], x_lim[0])\n",
    "#ax.set_ylim(y_lim[1], y_lim[0])\n",
    "fig.colorbar(im, ax=ax, orientation='vertical')"
   ]
  },
  {
   "cell_type": "code",
   "execution_count": 21,
   "id": "3e66ab96",
   "metadata": {
    "ExecuteTime": {
     "end_time": "2022-07-06T13:06:13.641233Z",
     "start_time": "2022-07-06T13:06:13.638130Z"
    }
   },
   "outputs": [
    {
     "data": {
      "text/plain": [
       "array([   6.82490692,    6.82490692,    6.82490692,   13.64981384,\n",
       "          6.82490692,    6.82490692,    6.82490692,    6.82490692,\n",
       "          6.82490692, -150.1479522 , -150.1479522 ,   13.64981384,\n",
       "         13.64981384,  -27.29962767,    6.82490692,    6.82490692,\n",
       "          6.82490692, -156.97285912,  -34.12453459,  -27.29962767,\n",
       "        -27.29962767,  -27.29962767,  -27.29962767,  -27.29962767,\n",
       "        -34.12453459,  -34.12453459,  -27.29962767,  -27.29962767,\n",
       "        -27.29962767,  -27.29962767,  -34.12453459,  -34.12453459,\n",
       "        -34.12453459,  -34.12453459,  -34.12453459])"
      ]
     },
     "execution_count": 21,
     "metadata": {},
     "output_type": "execute_result"
    }
   ],
   "source": [
    "rm[~np.isnan(rm)]"
   ]
  },
  {
   "cell_type": "code",
   "execution_count": 22,
   "id": "63a452e5",
   "metadata": {
    "ExecuteTime": {
     "end_time": "2022-07-06T13:06:13.749342Z",
     "start_time": "2022-07-06T13:06:13.642272Z"
    }
   },
   "outputs": [
    {
     "data": {
      "text/plain": [
       "array([4.3273325, 4.2324505, 4.364363 , 4.263907 , 4.048483 , 4.0347276,\n",
       "       4.166223 , 4.3400474, 4.5213757, 4.3062716, 4.380904 , 4.0982175,\n",
       "       3.9679685, 3.9372265, 4.051027 , 4.1657043, 4.3152823, 4.246804 ,\n",
       "       4.1097426, 3.765434 , 3.616559 , 3.6641583, 3.8561819, 4.21942  ,\n",
       "       4.2801247, 3.8217652, 3.554763 , 3.49302  , 3.6181314, 3.9418492,\n",
       "       4.078112 , 3.7561407, 3.6554673, 3.7512271, 4.0707273],\n",
       "      dtype=float32)"
      ]
     },
     "execution_count": 22,
     "metadata": {},
     "output_type": "execute_result"
    }
   ],
   "source": [
    "sigma_phi[~np.isnan(sigma_phi)]"
   ]
  },
  {
   "cell_type": "code",
   "execution_count": 23,
   "id": "796a5401",
   "metadata": {
    "ExecuteTime": {
     "end_time": "2022-07-06T13:06:13.853828Z",
     "start_time": "2022-07-06T13:06:13.750548Z"
    }
   },
   "outputs": [],
   "source": [
    "dx = rm_hdu.header[\"CDELT1\"] * un.deg\n",
    "dy = rm_hdu.header[\"CDELT2\"] * un.deg"
   ]
  },
  {
   "cell_type": "code",
   "execution_count": 24,
   "id": "81d26ff1",
   "metadata": {
    "ExecuteTime": {
     "end_time": "2022-07-06T13:06:14.023615Z",
     "start_time": "2022-07-06T13:06:13.856276Z"
    }
   },
   "outputs": [],
   "source": [
    "npixels = np.count_nonzero(~np.isnan(rm))"
   ]
  },
  {
   "cell_type": "code",
   "execution_count": 25,
   "id": "016c52cb",
   "metadata": {
    "ExecuteTime": {
     "end_time": "2022-07-06T13:06:14.129560Z",
     "start_time": "2022-07-06T13:06:14.025896Z"
    }
   },
   "outputs": [],
   "source": [
    "bmaj = 12.381457328796387 * un.arcsec\n",
    "bmin = 11.684733390808105 * un.arcsec\n",
    "area_pixels = np.pi * bmaj.to(un.deg) * bmin.to(un.deg) / (4. * np.log(2)) / (-dx * dy)\n",
    "nbeams = npixels / area_pixels"
   ]
  },
  {
   "cell_type": "code",
   "execution_count": 26,
   "id": "5c419d12",
   "metadata": {
    "ExecuteTime": {
     "end_time": "2022-07-06T13:06:14.235173Z",
     "start_time": "2022-07-06T13:06:14.131953Z"
    }
   },
   "outputs": [
    {
     "data": {
      "text/plain": [
       "(55, 36)"
      ]
     },
     "execution_count": 26,
     "metadata": {},
     "output_type": "execute_result"
    }
   ],
   "source": [
    "sigma_phi.shape"
   ]
  },
  {
   "cell_type": "code",
   "execution_count": 27,
   "id": "016991cc",
   "metadata": {
    "ExecuteTime": {
     "end_time": "2022-07-06T13:06:14.340561Z",
     "start_time": "2022-07-06T13:06:14.237537Z"
    }
   },
   "outputs": [],
   "source": [
    "pos_max = np.unravel_index(np.nanargmax(p), shape=p.shape)\n",
    "max_rm = rm[pos_max]\n",
    "sigma_phi_at_max = sigma_phi[pos_max]\n",
    "avg_rm = np.nanmean(rm)\n",
    "med_rm = np.nanmedian(rm)\n",
    "mad_rm = np.nanmedian(np.abs(rm - np.nanmedian(rm)))\n",
    "sigma_rm_obs = np.nanstd(rm)\n",
    "med_sigma_phi = np.nanmedian(sigma_phi)\n",
    "sigma_rm = np.sqrt(sigma_rm_obs**2 - med_sigma_phi**2)"
   ]
  },
  {
   "cell_type": "code",
   "execution_count": 28,
   "id": "89dae14b",
   "metadata": {
    "ExecuteTime": {
     "end_time": "2022-07-06T13:06:14.444453Z",
     "start_time": "2022-07-06T13:06:14.342586Z"
    }
   },
   "outputs": [],
   "source": [
    "mean_error = sigma_rm_obs / np.sqrt(nbeams)\n",
    "sigma_error = sigma_rm / np.sqrt(nbeams)"
   ]
  },
  {
   "cell_type": "code",
   "execution_count": 29,
   "id": "ab3725f9",
   "metadata": {
    "ExecuteTime": {
     "end_time": "2022-07-06T13:06:14.550489Z",
     "start_time": "2022-07-06T13:06:14.446803Z"
    },
    "scrolled": true
   },
   "outputs": [
    {
     "name": "stdout",
     "output_type": "stream",
     "text": [
      "RM at max(P): -27.3\n",
      "sigma phi at max(P): 3.5\n",
      "<RM> : -25.3\n",
      "sigma(RM): 42.9\n",
      "med(RM): -27.3\n",
      "MAD(RM): 6.8\n",
      "med(sigma_phi): 4.1\n",
      "nbeams: 0.4\n",
      "sigma(RM)_obs:  43.1\n",
      "mean error:  71.8\n",
      "sigma error:  71.5\n"
     ]
    }
   ],
   "source": [
    "print(\"RM at max(P): {0:.1f}\".format(max_rm))\n",
    "print(\"sigma phi at max(P): {0:.1f}\".format(sigma_phi_at_max))\n",
    "print(\"<RM> : {0:.1f}\".format(avg_rm))\n",
    "print(\"sigma(RM): {0:.1f}\".format(sigma_rm))\n",
    "print(\"med(RM): {0:.1f}\".format(med_rm))\n",
    "print(\"MAD(RM): {0:.1f}\".format(mad_rm))\n",
    "print(\"med(sigma_phi): {0:.1f}\".format(med_sigma_phi))\n",
    "print(\"nbeams: {0:.1f}\".format(nbeams))\n",
    "print(\"sigma(RM)_obs: {0: .1f}\".format(sigma_rm_obs))\n",
    "print(\"mean error: {0: .1f}\".format(mean_error))\n",
    "print(\"sigma error: {0: .1f}\".format(sigma_error))"
   ]
  },
  {
   "cell_type": "code",
   "execution_count": 30,
   "id": "efb54efd",
   "metadata": {
    "ExecuteTime": {
     "end_time": "2022-07-06T13:06:14.656579Z",
     "start_time": "2022-07-06T13:06:14.553299Z"
    }
   },
   "outputs": [
    {
     "data": {
      "text/plain": [
       "1859.3717814623833"
      ]
     },
     "execution_count": 30,
     "metadata": {},
     "output_type": "execute_result"
    }
   ],
   "source": [
    "sigma_rm_obs**2"
   ]
  },
  {
   "cell_type": "code",
   "execution_count": 31,
   "id": "a0ae3d88",
   "metadata": {
    "ExecuteTime": {
     "end_time": "2022-07-06T13:06:14.761674Z",
     "start_time": "2022-07-06T13:06:14.658862Z"
    }
   },
   "outputs": [
    {
     "data": {
      "text/plain": [
       "-16.570821144422553"
      ]
     },
     "execution_count": 31,
     "metadata": {},
     "output_type": "execute_result"
    }
   ],
   "source": [
    "-med_sigma_phi**2"
   ]
  },
  {
   "cell_type": "code",
   "execution_count": 32,
   "id": "135d2d65",
   "metadata": {
    "ExecuteTime": {
     "end_time": "2022-07-06T13:06:14.865500Z",
     "start_time": "2022-07-06T13:06:14.764014Z"
    }
   },
   "outputs": [],
   "source": [
    "sigma_rm = np.sqrt(sigma_rm_obs**2 - med_sigma_phi**2)"
   ]
  }
 ],
 "metadata": {
  "kernelspec": {
   "display_name": "Python 3 (ipykernel)",
   "language": "python",
   "name": "python3"
  },
  "language_info": {
   "codemirror_mode": {
    "name": "ipython",
    "version": 3
   },
   "file_extension": ".py",
   "mimetype": "text/x-python",
   "name": "python",
   "nbconvert_exporter": "python",
   "pygments_lexer": "ipython3",
   "version": "3.10.6"
  },
  "latex_envs": {
   "LaTeX_envs_menu_present": true,
   "autoclose": false,
   "autocomplete": true,
   "bibliofile": "biblio.bib",
   "cite_by": "apalike",
   "current_citInitial": 1,
   "eqLabelWithNumbers": true,
   "eqNumInitial": 1,
   "hotkeys": {
    "equation": "Ctrl-E",
    "itemize": "Ctrl-I"
   },
   "labels_anchors": false,
   "latex_user_defs": false,
   "report_style_numbering": false,
   "user_envs_cfg": false
  },
  "varInspector": {
   "cols": {
    "lenName": 16,
    "lenType": 16,
    "lenVar": 40
   },
   "kernels_config": {
    "python": {
     "delete_cmd_postfix": "",
     "delete_cmd_prefix": "del ",
     "library": "var_list.py",
     "varRefreshCmd": "print(var_dic_list())"
    },
    "r": {
     "delete_cmd_postfix": ") ",
     "delete_cmd_prefix": "rm(",
     "library": "var_list.r",
     "varRefreshCmd": "cat(var_dic_list()) "
    }
   },
   "types_to_exclude": [
    "module",
    "function",
    "builtin_function_or_method",
    "instance",
    "_Feature"
   ],
   "window_display": false
  }
 },
 "nbformat": 4,
 "nbformat_minor": 5
}
