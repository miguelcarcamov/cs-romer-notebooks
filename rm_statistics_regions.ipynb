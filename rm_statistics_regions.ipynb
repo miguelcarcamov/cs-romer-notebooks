{
 "cells": [
  {
   "cell_type": "code",
   "execution_count": 1,
   "id": "05e2de62",
   "metadata": {
    "ExecuteTime": {
     "end_time": "2022-07-06T12:02:32.005688Z",
     "start_time": "2022-07-06T12:02:30.861647Z"
    }
   },
   "outputs": [],
   "source": [
    "import astropy.units as un\n",
    "import matplotlib.pyplot as plt\n",
    "import numpy as np\n",
    "from astropy.coordinates import Angle, SkyCoord\n",
    "from astropy.cosmology import Planck18\n",
    "from astropy.io import fits\n",
    "from astropy.stats import median_absolute_deviation as mad\n",
    "from astropy.units import Quantity\n",
    "from astropy.wcs import WCS\n",
    "from regions import CirclePixelRegion, CircleSkyRegion, PixCoord"
   ]
  },
  {
   "cell_type": "code",
   "execution_count": 2,
   "id": "cbc2c873",
   "metadata": {
    "ExecuteTime": {
     "end_time": "2022-07-06T12:02:32.009425Z",
     "start_time": "2022-07-06T12:02:32.006944Z"
    }
   },
   "outputs": [],
   "source": [
    "redshift_z = 0.034\n",
    "dist = Planck18.comoving_distance(redshift_z)\n",
    "scale = Planck18.arcsec_per_kpc_comoving(redshift_z)"
   ]
  },
  {
   "cell_type": "code",
   "execution_count": 3,
   "id": "57170af6",
   "metadata": {
    "ExecuteTime": {
     "end_time": "2022-07-06T12:02:32.059918Z",
     "start_time": "2022-07-06T12:02:32.011435Z"
    }
   },
   "outputs": [],
   "source": [
    "def get_nbeams(data, header):\n",
    "    dx = -header[\"CDELT1\"]\n",
    "    dy = header[\"CDELT2\"]\n",
    "    bmaj = 12.381457328796387 * un.arcsec\n",
    "    bmin = 11.684733390808105 * un.arcsec\n",
    "    area_pixels = np.pi * bmaj.to(un.deg) * bmin.to(un.deg) / (4. * np.log(2)) / (dx * dy)\n",
    "    nbeams = np.count_nonzero(~np.isnan(data)) / area_pixels.value\n",
    "    return nbeams"
   ]
  },
  {
   "cell_type": "code",
   "execution_count": 4,
   "id": "82877f45",
   "metadata": {
    "ExecuteTime": {
     "end_time": "2022-07-06T12:02:32.107852Z",
     "start_time": "2022-07-06T12:02:32.060976Z"
    }
   },
   "outputs": [],
   "source": [
    "def get_image_coordinates(header, w):\n",
    "    m = header[\"NAXIS1\"]\n",
    "    n = header[\"NAXIS2\"]\n",
    "    try:\n",
    "        frame = header[\"RADESYS\"].lower()\n",
    "    except KeyError:\n",
    "        frame = \"fk5\"\n",
    "    x = np.arange(0, m, 1)\n",
    "    y = np.arange(0, n, 1)\n",
    "    xx, yy = np.meshgrid(x, y)\n",
    "\n",
    "    ra, dec = w.all_pix2world(xx, yy, 0) * un.deg\n",
    "    sky_coord = SkyCoord(ra=ra, dec=dec, frame=frame)\n",
    "\n",
    "    return sky_coord"
   ]
  },
  {
   "cell_type": "code",
   "execution_count": 5,
   "id": "63ecb4ba",
   "metadata": {
    "ExecuteTime": {
     "end_time": "2022-07-06T12:02:32.540514Z",
     "start_time": "2022-07-06T12:02:32.108876Z"
    }
   },
   "outputs": [],
   "source": [
    "def get_statistics(rm, sigma, header):\n",
    "    avg_rm = np.nanmean(rm)\n",
    "    med_rm = np.nanmedian(rm)\n",
    "    mad_rm = np.nanmedian(np.abs(rm - np.nanmedian(rm)))\n",
    "    sigma_rm_obs = np.nanstd(rm)\n",
    "    med_sigma_phi = np.nanmedian(sigma)\n",
    "    sigma_rm = np.sqrt(sigma_rm_obs**2 - med_sigma_phi**2)\n",
    "    nbeams = get_nbeams(rm, header)\n",
    "\n",
    "    print(\"<RM> : {0:.2f}\".format(avg_rm))\n",
    "    print(\"sigma(RM): {0:.2f}\".format(sigma_rm))\n",
    "    print(\"med(RM): {0:.2f}\".format(med_rm))\n",
    "    print(\"MAD(RM): {0:.2f}\".format(mad_rm))\n",
    "    print(\"med(sigma_phi): {0:.2f}\".format(med_sigma_phi))\n",
    "    print(\"sigma(RM)_obs: {0:.2f}\".format(sigma_rm_obs))\n",
    "    print(\"nbeams: {0:.2f}\".format(nbeams))"
   ]
  },
  {
   "cell_type": "code",
   "execution_count": 6,
   "id": "a6af5b1e",
   "metadata": {
    "ExecuteTime": {
     "end_time": "2022-07-06T12:02:32.612864Z",
     "start_time": "2022-07-06T12:02:32.542461Z"
    }
   },
   "outputs": [],
   "source": [
    "def create_circular_skyregion(\n",
    "    ra, dec, radius, cluster_center_coord, radius_unit=\"arcsec\", unit=\"deg\"\n",
    "):\n",
    "    center = SkyCoord(ra, dec, unit=unit)\n",
    "    dist_to_center = center.separation(cluster_center_coord)\n",
    "    dist_kpc = dist_to_center.arcsecond * un.arcsec / scale\n",
    "    print(dist_kpc)\n",
    "    radius = Angle(radius, radius_unit)\n",
    "    region = CircleSkyRegion(center, radius)\n",
    "    return region"
   ]
  },
  {
   "cell_type": "code",
   "execution_count": 7,
   "id": "ff0ca8f1",
   "metadata": {
    "ExecuteTime": {
     "end_time": "2022-07-06T12:02:32.674424Z",
     "start_time": "2022-07-06T12:02:32.614784Z"
    }
   },
   "outputs": [],
   "source": [
    "cluster_center_coord = SkyCoord(ra=173.714 * un.deg, dec=49.091 * un.deg, frame=\"fk5\")"
   ]
  },
  {
   "cell_type": "code",
   "execution_count": 8,
   "id": "19b91e7f",
   "metadata": {
    "ExecuteTime": {
     "end_time": "2022-07-06T12:02:32.733454Z",
     "start_time": "2022-07-06T12:02:32.676342Z"
    }
   },
   "outputs": [],
   "source": [
    "rm_hdu = fits.open(\n",
    "    \"/home/miguel/Documents/datasets/A1314_JVLA/mfs/rm_images/delta_wavelet/max_faraday_depth.fits\"\n",
    ")[0]\n",
    "p_hdu = fits.open(\n",
    "    \"/home/miguel/Documents/datasets/A1314_JVLA/mfs/rm_images/delta_wavelet/max_rotated_intensity.fits\"\n",
    ")[0]\n",
    "sigma_qu_hdu = fits.open(\n",
    "    \"/home/miguel/Documents/datasets/A1314_JVLA/mfs/rm_images/delta_wavelet/sigma_qu_faraday.fits\"\n",
    ")[0]\n",
    "sigma_phi_hdu = fits.open(\n",
    "    \"/home/miguel/Documents/datasets/A1314_JVLA/mfs/rm_images/delta_wavelet/sigma_phi_peak.fits\"\n",
    ")[0]\n",
    "xray_hdu = fits.open(\"/home/miguel/Documents/datasets/A1314_JVLA/xray_interpolated.fits\")[0]"
   ]
  },
  {
   "cell_type": "code",
   "execution_count": 9,
   "id": "aa9d60b0",
   "metadata": {
    "ExecuteTime": {
     "end_time": "2022-07-06T12:02:32.785494Z",
     "start_time": "2022-07-06T12:02:32.735535Z"
    }
   },
   "outputs": [
    {
     "name": "stdout",
     "output_type": "stream",
     "text": [
      "379.2163669411811 kpc\n"
     ]
    }
   ],
   "source": [
    "# Core\n",
    "# core_region = create_circular_skyregion(173.4962263, 49.0629333, 15.782, cluster_center_coord)\n",
    "core_region = create_circular_skyregion(\n",
    "    173.4962263, 49.0629333, 17.782, cluster_center_coord\n",
    ")  # 5.01 nbeams"
   ]
  },
  {
   "cell_type": "code",
   "execution_count": 10,
   "id": "2b3bf736",
   "metadata": {
    "ExecuteTime": {
     "end_time": "2022-07-06T12:02:32.865861Z",
     "start_time": "2022-07-06T12:02:32.786996Z"
    }
   },
   "outputs": [
    {
     "name": "stdout",
     "output_type": "stream",
     "text": [
      "405.5635803438024 kpc\n"
     ]
    }
   ],
   "source": [
    "# North Lobe\n",
    "north_region = create_circular_skyregion(173.4776803, 49.0761733, 41.295, cluster_center_coord)"
   ]
  },
  {
   "cell_type": "code",
   "execution_count": 11,
   "id": "d14fbb39",
   "metadata": {
    "ExecuteTime": {
     "end_time": "2022-07-06T12:02:32.923293Z",
     "start_time": "2022-07-06T12:02:32.867394Z"
    }
   },
   "outputs": [
    {
     "name": "stdout",
     "output_type": "stream",
     "text": [
      "424.87499353091937 kpc\n"
     ]
    }
   ],
   "source": [
    "# South Lobe\n",
    "south_region = create_circular_skyregion(173.4719210, 49.0538024, 42.187, cluster_center_coord)"
   ]
  },
  {
   "cell_type": "code",
   "execution_count": 12,
   "id": "3dc8279d",
   "metadata": {
    "ExecuteTime": {
     "end_time": "2022-07-06T12:02:33.001547Z",
     "start_time": "2022-07-06T12:02:32.928997Z"
    }
   },
   "outputs": [
    {
     "name": "stderr",
     "output_type": "stream",
     "text": [
      "WARNING: FITSFixedWarning: 'obsfix' made the change 'Set OBSGEO-L to  -107.618000 from OBSGEO-[XYZ].\n",
      "Set OBSGEO-B to    34.078827 from OBSGEO-[XYZ].\n",
      "Set OBSGEO-H to     2115.607 from OBSGEO-[XYZ]'. [astropy.wcs.wcs]\n",
      "WARNING: FITSFixedWarning: RADECSYS= 'FK5 ' / Equatorial system reference \n",
      "the RADECSYS keyword is deprecated, use RADESYSa. [astropy.wcs.wcs]\n"
     ]
    }
   ],
   "source": [
    "w = WCS(rm_hdu.header, naxis=2)\n",
    "w_xray = WCS(xray_hdu.header, naxis=2)"
   ]
  },
  {
   "cell_type": "code",
   "execution_count": 13,
   "id": "0e434638",
   "metadata": {
    "ExecuteTime": {
     "end_time": "2022-07-06T12:02:33.194170Z",
     "start_time": "2022-07-06T12:02:33.003642Z"
    }
   },
   "outputs": [],
   "source": [
    "sky_coord = get_image_coordinates(rm_hdu.header, w)"
   ]
  },
  {
   "cell_type": "code",
   "execution_count": 14,
   "id": "a88fc66c",
   "metadata": {
    "ExecuteTime": {
     "end_time": "2022-07-06T12:02:33.222221Z",
     "start_time": "2022-07-06T12:02:33.195494Z"
    }
   },
   "outputs": [],
   "source": [
    "sky_coord_xray = get_image_coordinates(xray_hdu.header, w_xray)"
   ]
  },
  {
   "cell_type": "code",
   "execution_count": 15,
   "id": "ad2d82f9",
   "metadata": {
    "ExecuteTime": {
     "end_time": "2022-07-06T12:02:33.975103Z",
     "start_time": "2022-07-06T12:02:33.223460Z"
    }
   },
   "outputs": [],
   "source": [
    "core_mask = core_region.contains(sky_coord, w)\n",
    "core_xray_mask = core_region.contains(sky_coord_xray, w_xray)\n",
    "north_mask = north_region.contains(sky_coord, w)\n",
    "north_xray_mask = north_region.contains(sky_coord_xray, w_xray)\n",
    "south_mask = south_region.contains(sky_coord, w)\n",
    "south_xray_mask = south_region.contains(sky_coord_xray, w_xray)"
   ]
  },
  {
   "cell_type": "code",
   "execution_count": 16,
   "id": "b4997aa1",
   "metadata": {
    "ExecuteTime": {
     "end_time": "2022-07-06T12:02:33.978390Z",
     "start_time": "2022-07-06T12:02:33.976066Z"
    }
   },
   "outputs": [],
   "source": [
    "rm = rm_hdu.data\n",
    "p = p_hdu.data\n",
    "sigma_qu = sigma_qu_hdu.data\n",
    "sigma_phi = sigma_phi_hdu.data\n",
    "xray_data = xray_hdu.data"
   ]
  },
  {
   "cell_type": "code",
   "execution_count": 17,
   "id": "c4c09d6f",
   "metadata": {
    "ExecuteTime": {
     "end_time": "2022-07-06T12:02:34.038921Z",
     "start_time": "2022-07-06T12:02:33.979880Z"
    }
   },
   "outputs": [],
   "source": [
    "rm = np.where(p > 6 * sigma_qu, rm, np.nan)\n",
    "sigma_phi = np.where(p > 6 * sigma_qu, sigma_phi, np.nan)"
   ]
  },
  {
   "cell_type": "code",
   "execution_count": 18,
   "id": "f74392a3",
   "metadata": {
    "ExecuteTime": {
     "end_time": "2022-07-06T12:02:34.121961Z",
     "start_time": "2022-07-06T12:02:34.040438Z"
    }
   },
   "outputs": [],
   "source": [
    "core_rm = rm[core_mask]\n",
    "north_rm = rm[north_mask]\n",
    "south_rm = rm[south_mask]"
   ]
  },
  {
   "cell_type": "code",
   "execution_count": 19,
   "id": "49f871bb",
   "metadata": {
    "ExecuteTime": {
     "end_time": "2022-07-06T12:02:34.179365Z",
     "start_time": "2022-07-06T12:02:34.123739Z"
    }
   },
   "outputs": [],
   "source": [
    "core_sigma = sigma_phi[core_mask]\n",
    "north_sigma = sigma_phi[north_mask]\n",
    "south_sigma = sigma_phi[south_mask]"
   ]
  },
  {
   "cell_type": "code",
   "execution_count": 20,
   "id": "f5d8ab61",
   "metadata": {
    "ExecuteTime": {
     "end_time": "2022-07-06T12:02:34.234798Z",
     "start_time": "2022-07-06T12:02:34.180966Z"
    }
   },
   "outputs": [],
   "source": [
    "core_xray = xray_data[core_xray_mask]\n",
    "north_xray = xray_data[north_xray_mask]\n",
    "south_xray = xray_data[south_xray_mask]"
   ]
  },
  {
   "cell_type": "code",
   "execution_count": 21,
   "id": "c7db2443",
   "metadata": {
    "ExecuteTime": {
     "end_time": "2022-07-06T12:02:34.293687Z",
     "start_time": "2022-07-06T12:02:34.235895Z"
    }
   },
   "outputs": [
    {
     "name": "stdout",
     "output_type": "stream",
     "text": [
      "Core:\n",
      "<RM> : 103.78\n",
      "sigma(RM): 50.86\n",
      "med(RM): 136.50\n",
      "MAD(RM): 6.82\n",
      "med(sigma_phi): 0.44\n",
      "sigma(RM)_obs: 50.86\n",
      "nbeams: 5.01\n",
      "Mean xray: 14.843 c/s/deg2\n"
     ]
    }
   ],
   "source": [
    "print(\"Core:\")\n",
    "get_statistics(core_rm, core_sigma, rm_hdu.header)\n",
    "print(\"Mean xray: {0:.3f} c/s/deg2\".format(np.nanmean(core_xray)))"
   ]
  },
  {
   "cell_type": "code",
   "execution_count": 22,
   "id": "d2d876c1",
   "metadata": {
    "ExecuteTime": {
     "end_time": "2022-07-06T12:02:34.349667Z",
     "start_time": "2022-07-06T12:02:34.295376Z"
    }
   },
   "outputs": [
    {
     "name": "stdout",
     "output_type": "stream",
     "text": [
      "North lobe:\n",
      "<RM> : -11.27\n",
      "sigma(RM): 30.33\n",
      "med(RM): -6.82\n",
      "MAD(RM): 13.65\n",
      "med(sigma_phi): 0.49\n",
      "sigma(RM)_obs: 30.33\n",
      "nbeams: 26.15\n",
      "Mean xray: 11.003 c/s/deg2\n"
     ]
    }
   ],
   "source": [
    "print(\"North lobe:\")\n",
    "get_statistics(north_rm, north_sigma, rm_hdu.header)\n",
    "print(\"Mean xray: {0:.3f} c/s/deg2\".format(np.nanmean(north_xray)))"
   ]
  },
  {
   "cell_type": "code",
   "execution_count": 23,
   "id": "f9f0538b",
   "metadata": {
    "ExecuteTime": {
     "end_time": "2022-07-06T12:02:34.405590Z",
     "start_time": "2022-07-06T12:02:34.351413Z"
    }
   },
   "outputs": [
    {
     "name": "stdout",
     "output_type": "stream",
     "text": [
      "South Lobe:\n",
      "<RM> : 10.15\n",
      "sigma(RM): 46.72\n",
      "med(RM): 6.82\n",
      "MAD(RM): 27.30\n",
      "med(sigma_phi): 0.74\n",
      "sigma(RM)_obs: 46.72\n",
      "nbeams: 23.37\n",
      "Mean xray: 10.986 c/s/deg2\n"
     ]
    }
   ],
   "source": [
    "print(\"South Lobe:\")\n",
    "get_statistics(south_rm, south_sigma, rm_hdu.header)\n",
    "print(\"Mean xray: {0:.3f} c/s/deg2\".format(np.nanmean(south_xray)))"
   ]
  },
  {
   "cell_type": "code",
   "execution_count": null,
   "id": "41137115",
   "metadata": {},
   "outputs": [],
   "source": []
  }
 ],
 "metadata": {
  "kernelspec": {
   "display_name": "Python 3 (ipykernel)",
   "language": "python",
   "name": "python3"
  },
  "language_info": {
   "codemirror_mode": {
    "name": "ipython",
    "version": 3
   },
   "file_extension": ".py",
   "mimetype": "text/x-python",
   "name": "python",
   "nbconvert_exporter": "python",
   "pygments_lexer": "ipython3",
   "version": "3.10.5"
  },
  "latex_envs": {
   "LaTeX_envs_menu_present": true,
   "autoclose": false,
   "autocomplete": true,
   "bibliofile": "biblio.bib",
   "cite_by": "apalike",
   "current_citInitial": 1,
   "eqLabelWithNumbers": true,
   "eqNumInitial": 1,
   "hotkeys": {
    "equation": "Ctrl-E",
    "itemize": "Ctrl-I"
   },
   "labels_anchors": false,
   "latex_user_defs": false,
   "report_style_numbering": false,
   "user_envs_cfg": false
  },
  "varInspector": {
   "cols": {
    "lenName": 16,
    "lenType": 16,
    "lenVar": 40
   },
   "kernels_config": {
    "python": {
     "delete_cmd_postfix": "",
     "delete_cmd_prefix": "del ",
     "library": "var_list.py",
     "varRefreshCmd": "print(var_dic_list())"
    },
    "r": {
     "delete_cmd_postfix": ") ",
     "delete_cmd_prefix": "rm(",
     "library": "var_list.r",
     "varRefreshCmd": "cat(var_dic_list()) "
    }
   },
   "types_to_exclude": [
    "module",
    "function",
    "builtin_function_or_method",
    "instance",
    "_Feature"
   ],
   "window_display": false
  }
 },
 "nbformat": 4,
 "nbformat_minor": 5
}
