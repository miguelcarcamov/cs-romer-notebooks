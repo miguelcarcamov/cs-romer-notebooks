{
 "cells": [
  {
   "cell_type": "code",
   "execution_count": 1,
   "id": "d21229a7",
   "metadata": {
    "ExecuteTime": {
     "end_time": "2022-05-18T09:46:44.409966Z",
     "start_time": "2022-05-18T09:46:42.593548Z"
    }
   },
   "outputs": [],
   "source": [
    "import astropy.units as un\n",
    "import matplotlib.pyplot as plt\n",
    "import numpy as np\n",
    "from astropy.coordinates import SkyCoord\n",
    "from astropy.io import fits\n",
    "\n",
    "from csromer.faraday_sky import FaradaySky"
   ]
  },
  {
   "cell_type": "code",
   "execution_count": 2,
   "id": "e74616af",
   "metadata": {
    "ExecuteTime": {
     "end_time": "2022-05-18T09:46:46.327995Z",
     "start_time": "2022-05-18T09:46:45.651916Z"
    }
   },
   "outputs": [],
   "source": [
    "f_sky = FaradaySky()"
   ]
  },
  {
   "cell_type": "code",
   "execution_count": 3,
   "id": "10e4022f",
   "metadata": {
    "ExecuteTime": {
     "end_time": "2022-05-18T09:46:46.995202Z",
     "start_time": "2022-05-18T09:46:46.924108Z"
    }
   },
   "outputs": [],
   "source": [
    "filename = \"/home/miguel/Documents/datasets/A1314_JVLA/mfs/A1314_I.fits\"\n",
    "#filename=\"/home/miguel/Documents/datasets/MeerKAT/MIGHTEE/XMMLSS/XMMLSS_I.fits\"\n",
    "hdul = fits.open(filename)[0]"
   ]
  },
  {
   "cell_type": "code",
   "execution_count": 4,
   "id": "2e3f6914",
   "metadata": {
    "ExecuteTime": {
     "end_time": "2022-05-18T09:46:48.611641Z",
     "start_time": "2022-05-18T09:46:48.223539Z"
    }
   },
   "outputs": [
    {
     "name": "stderr",
     "output_type": "stream",
     "text": [
      "WARNING: FITSFixedWarning: 'obsfix' made the change 'Set OBSGEO-L to  -107.618000 from OBSGEO-[XYZ].\n",
      "Set OBSGEO-B to    34.078827 from OBSGEO-[XYZ].\n",
      "Set OBSGEO-H to     2115.607 from OBSGEO-[XYZ]'. [astropy.wcs.wcs]\n"
     ]
    },
    {
     "name": "stdout",
     "output_type": "stream",
     "text": [
      "The Galactic RM in the field is 11.99 ± 3.95 rad / m2\n"
     ]
    }
   ],
   "source": [
    "mean, std = f_sky.galactic_rm_image(hdul.header, use_bilinear_interpolation=False)"
   ]
  },
  {
   "cell_type": "code",
   "execution_count": 11,
   "id": "d4209464",
   "metadata": {
    "ExecuteTime": {
     "end_time": "2022-01-27T12:44:32.315117Z",
     "start_time": "2022-01-27T12:44:32.174804Z"
    }
   },
   "outputs": [
    {
     "data": {
      "text/plain": [
       "<matplotlib.colorbar.Colorbar at 0x7ff2f1231f00>"
      ]
     },
     "execution_count": 11,
     "metadata": {},
     "output_type": "execute_result"
    },
    {
     "data": {
      "image/png": "[encoded data removed]",
      "text/plain": [
       "<Figure size 640x480 with 2 Axes>"
      ]
     },
     "metadata": {},
     "output_type": "display_data"
    }
   ],
   "source": [
    "plt.imshow(mean.value)\n",
    "plt.colorbar()"
   ]
  },
  {
   "cell_type": "code",
   "execution_count": 12,
   "id": "a36cf91a",
   "metadata": {
    "ExecuteTime": {
     "end_time": "2022-01-27T12:44:32.319009Z",
     "start_time": "2022-01-27T12:44:32.315802Z"
    }
   },
   "outputs": [
    {
     "data": {
      "text/plain": [
       "(<Quantity 13.74069539 rad / m2>, <Quantity 11.10870044 rad / m2>)"
      ]
     },
     "execution_count": 12,
     "metadata": {},
     "output_type": "execute_result"
    }
   ],
   "source": [
    "np.max(mean), np.min(mean)"
   ]
  },
  {
   "cell_type": "code",
   "execution_count": 13,
   "id": "6c7eae32",
   "metadata": {
    "ExecuteTime": {
     "end_time": "2022-01-27T13:38:37.389640Z",
     "start_time": "2022-01-27T13:38:37.383980Z"
    }
   },
   "outputs": [
    {
     "data": {
      "text/plain": [
       "(<Quantity 0.62105657 rad / m2>, <Quantity 0.36528507 rad / m2>)"
      ]
     },
     "execution_count": 13,
     "metadata": {},
     "output_type": "execute_result"
    }
   ],
   "source": [
    "np.std(mean), np.std(std)"
   ]
  },
  {
   "cell_type": "code",
   "execution_count": 14,
   "id": "19fdede0",
   "metadata": {
    "ExecuteTime": {
     "end_time": "2022-01-27T12:44:32.367151Z",
     "start_time": "2022-01-27T12:44:32.319682Z"
    }
   },
   "outputs": [],
   "source": [
    "# Example with two separated sources"
   ]
  },
  {
   "cell_type": "code",
   "execution_count": 15,
   "id": "46f5b787",
   "metadata": {
    "ExecuteTime": {
     "end_time": "2022-01-27T12:46:09.015066Z",
     "start_time": "2022-01-27T12:46:09.011117Z"
    }
   },
   "outputs": [
    {
     "data": {
      "text/plain": [
       "(<Quantity 12.34069275 rad / m2>, <Quantity 4.13101537 rad / m2>)"
      ]
     },
     "execution_count": 15,
     "metadata": {},
     "output_type": "execute_result"
    }
   ],
   "source": [
    "f_sky.galactic_rm(ra=173.803 * un.deg, dec=48.966 * un.deg, frame=\"fk5\")"
   ]
  },
  {
   "cell_type": "code",
   "execution_count": 16,
   "id": "28ff5d5a",
   "metadata": {
    "ExecuteTime": {
     "end_time": "2022-01-27T12:46:22.273189Z",
     "start_time": "2022-01-27T12:46:22.269265Z"
    }
   },
   "outputs": [
    {
     "data": {
      "text/plain": [
       "(<Quantity 11.11724962 rad / m2>, <Quantity 3.64770335 rad / m2>)"
      ]
     },
     "execution_count": 16,
     "metadata": {},
     "output_type": "execute_result"
    }
   ],
   "source": [
    "f_sky.galactic_rm(ra=173.496 * un.deg, dec=49.062 * un.deg, frame=\"fk5\")"
   ]
  },
  {
   "cell_type": "code",
   "execution_count": null,
   "id": "427bc554",
   "metadata": {},
   "outputs": [],
   "source": []
  }
 ],
 "metadata": {
  "kernelspec": {
   "display_name": "Python 3 (ipykernel)",
   "language": "python",
   "name": "python3"
  },
  "language_info": {
   "codemirror_mode": {
    "name": "ipython",
    "version": 3
   },
   "file_extension": ".py",
   "mimetype": "text/x-python",
   "name": "python",
   "nbconvert_exporter": "python",
   "pygments_lexer": "ipython3",
   "version": "3.10.9"
  },
  "latex_envs": {
   "LaTeX_envs_menu_present": true,
   "autoclose": false,
   "autocomplete": true,
   "bibliofile": "biblio.bib",
   "cite_by": "apalike",
   "current_citInitial": 1,
   "eqLabelWithNumbers": true,
   "eqNumInitial": 1,
   "hotkeys": {
    "equation": "Ctrl-E",
    "itemize": "Ctrl-I"
   },
   "labels_anchors": false,
   "latex_user_defs": false,
   "report_style_numbering": false,
   "user_envs_cfg": false
  },
  "toc": {
   "base_numbering": 1,
   "nav_menu": {},
   "number_sections": true,
   "sideBar": true,
   "skip_h1_title": false,
   "title_cell": "Table of Contents",
   "title_sidebar": "Contents",
   "toc_cell": false,
   "toc_position": {},
   "toc_section_display": true,
   "toc_window_display": false
  },
  "varInspector": {
   "cols": {
    "lenName": 16,
    "lenType": 16,
    "lenVar": 40
   },
   "kernels_config": {
    "python": {
     "delete_cmd_postfix": "",
     "delete_cmd_prefix": "del ",
     "library": "var_list.py",
     "varRefreshCmd": "print(var_dic_list())"
    },
    "r": {
     "delete_cmd_postfix": ") ",
     "delete_cmd_prefix": "rm(",
     "library": "var_list.r",
     "varRefreshCmd": "cat(var_dic_list()) "
    }
   },
   "types_to_exclude": [
    "module",
    "function",
    "builtin_function_or_method",
    "instance",
    "_Feature"
   ],
   "window_display": false
  }
 },
 "nbformat": 4,
 "nbformat_minor": 5
}
