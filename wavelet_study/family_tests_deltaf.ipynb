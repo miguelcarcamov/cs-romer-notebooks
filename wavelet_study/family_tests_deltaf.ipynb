{
 "cells": [
  {
   "cell_type": "code",
   "execution_count": 1,
   "id": "024c325a",
   "metadata": {
    "ExecuteTime": {
     "end_time": "2023-01-03T01:24:11.685194Z",
     "start_time": "2023-01-03T01:24:10.617204Z"
    },
    "pycharm": {
     "name": "#%%\n"
    }
   },
   "outputs": [],
   "source": [
    "import copy\n",
    "import itertools\n",
    "import os\n",
    "import time\n",
    "\n",
    "import matplotlib.pyplot as plt\n",
    "import numpy as np\n",
    "import pywt\n",
    "from IPython.display import clear_output\n",
    "from pynufft import NUFFT\n",
    "from scipy import signal as sci_signal\n",
    "from scipy.constants import c\n",
    "\n",
    "from csromer.base import Dataset\n",
    "from csromer.dictionaries.discrete import DiscreteWavelet\n",
    "from csromer.dictionaries.undecimated import UndecimatedWavelet\n",
    "from csromer.io import Reader, Writer\n",
    "from csromer.objectivefunction import L1, TSV, TV, Chi2, OFunction\n",
    "from csromer.optimization import FISTA, GradientBasedMethod\n",
    "from csromer.reconstruction import Parameter\n",
    "from csromer.simulation import FaradayThickSource, FaradayThinSource\n",
    "from csromer.transformers import NDFT1D, NUFFT1D, Gridding\n",
    "from csromer.utils import Gaussian, complex_to_real, real_to_complex\n",
    "\n",
    "%matplotlib inline\n",
    "\n",
    "#np.random.seed(666)"
   ]
  },
  {
   "cell_type": "code",
   "execution_count": 2,
   "id": "1d59c1d4",
   "metadata": {
    "ExecuteTime": {
     "end_time": "2023-01-03T01:24:11.689253Z",
     "start_time": "2023-01-03T01:24:11.686340Z"
    },
    "pycharm": {
     "name": "#%%\n"
    }
   },
   "outputs": [],
   "source": [
    "def gini_coefficient(w):\n",
    "    # Order vector\n",
    "    w_ordered = np.sort(np.abs(w), kind=\"stable\")\n",
    "    l1_norm = np.sum(np.abs(w_ordered))\n",
    "    M = len(w_ordered)\n",
    "    m = np.arange(0, M)\n",
    "    const = (M - m + 1.5) / M\n",
    "    if l1_norm == 0.0:\n",
    "        coeff = np.nan\n",
    "    else:\n",
    "        coeff = np.sum((w_ordered / l1_norm) * const)\n",
    "    return 1.0 - 2.0 * coeff"
   ]
  },
  {
   "cell_type": "code",
   "execution_count": 3,
   "id": "8c3ce1c3",
   "metadata": {
    "ExecuteTime": {
     "end_time": "2023-01-03T01:24:11.743462Z",
     "start_time": "2023-01-03T01:24:11.690778Z"
    },
    "pycharm": {
     "name": "#%%\n"
    }
   },
   "outputs": [],
   "source": [
    "def chi2_calc(residuals):\n",
    "    if residuals.dtype == np.complex64 or residuals.dtype == np.complex128:\n",
    "        data = residuals.real**2 + residuals.imag**2\n",
    "    else:\n",
    "        data = residuals**2\n",
    "    return np.sum(data)"
   ]
  },
  {
   "cell_type": "code",
   "execution_count": 4,
   "id": "30848b9d",
   "metadata": {
    "ExecuteTime": {
     "end_time": "2023-01-03T01:24:11.791440Z",
     "start_time": "2023-01-03T01:24:11.744424Z"
    },
    "pycharm": {
     "name": "#%%\n"
    }
   },
   "outputs": [],
   "source": [
    "def aicbic(residuals, x):\n",
    "    rss = chi2_calc(residuals)\n",
    "    if x.dtype == np.complex64 or x.dtype == np.complex128:\n",
    "        df = np.count_nonzero(x.real) + np.count_nonzero(x.imag)\n",
    "    else:\n",
    "        df = np.count_nonzero(x)\n",
    "    l = 2 * len(residuals)\n",
    "    return l * np.log(rss / l) + 2 * df, l * np.log(rss / l) + df * np.log(l)"
   ]
  },
  {
   "cell_type": "code",
   "execution_count": 5,
   "id": "c4b50cda",
   "metadata": {
    "ExecuteTime": {
     "end_time": "2023-01-03T01:24:11.851621Z",
     "start_time": "2023-01-03T01:24:11.792458Z"
    },
    "pycharm": {
     "name": "#%%\n"
    }
   },
   "outputs": [],
   "source": [
    "def list_to2darray(x: list = None, cols: int = None, dtype=None):\n",
    "    b = list(map(list, zip(*[iter(x)] * cols)))\n",
    "    #b = [x[cols*i : cols*(i+1)] for i in range(rows)]\n",
    "    if dtype is None:\n",
    "        return np.array(b)\n",
    "    else:\n",
    "        return np.array(b, dtype=dtype)"
   ]
  },
  {
   "cell_type": "code",
   "execution_count": 6,
   "id": "441e68a2",
   "metadata": {
    "ExecuteTime": {
     "end_time": "2023-01-03T01:24:11.900538Z",
     "start_time": "2023-01-03T01:24:11.852504Z"
    },
    "pycharm": {
     "name": "#%%\n"
    }
   },
   "outputs": [],
   "source": [
    "class statistics:\n",
    "\n",
    "    def __init__(self, m, n, z):\n",
    "        self.sum = np.zeros((m, n), dtype=np.float32)\n",
    "        self.sum2 = np.zeros((m, n), dtype=np.float32)\n",
    "        self.n = z * np.ones((m, n), dtype=np.int32)\n",
    "\n",
    "    def cumul(self, x):\n",
    "        x_values = np.where(x != np.nan, x, 0.0)\n",
    "        subtract = np.where(x == np.nan, -1, 0)\n",
    "        self.sum += x_values\n",
    "        self.sum2 += x_values * x_values\n",
    "        self.n += subtract\n",
    "\n",
    "    def mean(self):\n",
    "        return np.where(self.n > 0, self.sum / self.n, np.nan)\n",
    "\n",
    "    def std(self):\n",
    "        return np.where(\n",
    "            self.n > 0, np.sqrt(self.sum2 / self.n - self.sum * self.sum / self.n / self.n), np.nan\n",
    "        )"
   ]
  },
  {
   "cell_type": "code",
   "execution_count": 7,
   "id": "74c19991",
   "metadata": {
    "ExecuteTime": {
     "end_time": "2023-01-03T01:24:11.951491Z",
     "start_time": "2023-01-03T01:24:11.902415Z"
    },
    "pycharm": {
     "name": "#%%\n"
    }
   },
   "outputs": [],
   "source": [
    "class Test:\n",
    "\n",
    "    def __init__(\n",
    "        self,\n",
    "        nu_min=None,\n",
    "        nu_max=None,\n",
    "        nchannels=None,\n",
    "        noise_frac=None,\n",
    "        remove_frac=None,\n",
    "        use_gridding=False,\n",
    "        ftransform=\"nufft\",\n",
    "        use_wavelet=None,\n",
    "        source_1=None,\n",
    "        source_2=None,\n",
    "        scenario=1,\n",
    "        oversampling=8,\n",
    "        append_signal=False,\n",
    "    ):\n",
    "        self.nu_min = nu_min\n",
    "        self.nu_max = nu_max\n",
    "        self.nchannels = nchannels\n",
    "        self.noise_frac = noise_frac\n",
    "        self.remove_frac = remove_frac\n",
    "        self.use_gridding = use_gridding\n",
    "        self.use_wavelet = use_wavelet\n",
    "        self.ftransform = ftransform\n",
    "        self.scenario = scenario\n",
    "        self.oversampling = oversampling\n",
    "        self.append_signal = append_signal\n",
    "        self.nu = np.linspace(start=nu_min, stop=nu_max, num=nchannels)\n",
    "        self.source_1 = copy.deepcopy(source_1)\n",
    "        self.source_2 = copy.deepcopy(source_2)\n",
    "\n",
    "        if self.source_1 is not None:\n",
    "            self.source_1.nu = self.nu\n",
    "            self.source_1.simulate()\n",
    "\n",
    "        if self.source_2 is not None:\n",
    "            self.source_2.nu = self.nu\n",
    "            self.source_2.simulate()\n",
    "\n",
    "        if scenario == 1:\n",
    "            self.source = self.source_1\n",
    "        elif scenario == 2:\n",
    "            self.source = self.source_2\n",
    "        elif scenario == 3:\n",
    "            self.source = self.source_1 + self.source_2\n",
    "        else:\n",
    "            raise ValueError(\"This scenario does not exist\")\n",
    "\n",
    "        if remove_frac:\n",
    "            self.source.remove_channels(remove_frac, np.random.RandomState(int(time.time())))\n",
    "\n",
    "        if scenario == 1:\n",
    "            self.avg_signal = np.abs(self.source_1.s_nu)\n",
    "        elif scenario == 2:\n",
    "            self.avg_signal = np.abs(self.source_2.s_nu)\n",
    "        else:\n",
    "            self.avg_signal = max(np.abs(self.source_1.s_nu), np.abs(self.source_2.s_nu))\n",
    "\n",
    "        if noise_frac:\n",
    "            self.source.apply_noise(2.2804e-03 + 2.38714e-03j)\n",
    "\n",
    "        if use_gridding:\n",
    "            gridding = Gridding(self.source)\n",
    "            self.source = gridding.run()\n",
    "\n",
    "    def apply_noise(self):\n",
    "        if self.noise_frac:\n",
    "            self.source.apply_noise(\n",
    "                2.2804e-03 + 2.38714e-03j, np.random.RandomState(int(time.time()))\n",
    "            )\n",
    "            #print(\"Calculating l2_0...\")\n",
    "            #self.source.l2_ref = self.source.calculate_l2ref()\n",
    "            #print(\"l2_0: {0:0.3f} rad/m^2\".format(self.source.l2_ref))\n",
    "\n",
    "    def run(self, lambda_tv: float = None, lambda_tsv: float = None):\n",
    "        self.parameter = Parameter()\n",
    "        self.parameter.calculate_cellsize(dataset=self.source)\n",
    "\n",
    "        dft = NDFT1D(dataset=self.source, parameter=self.parameter)\n",
    "\n",
    "        self.F_dirty = dft.backward(self.source.data)\n",
    "\n",
    "        if self.use_wavelet:\n",
    "            #self.wavelet = DiscreteWavelet(\n",
    "            #    wavelet_name=self.use_wavelet,\n",
    "            #    mode=\"periodization\",\n",
    "            #    append_signal=self.append_signal\n",
    "            #)\n",
    "            self.wavelet = UndecimatedWavelet(\n",
    "                wavelet_name=self.use_wavelet,\n",
    "                mode=\"periodization\",\n",
    "                append_signal=self.append_signal\n",
    "            )\n",
    "            self.lambda_l1 = np.sqrt(len(self.source.data) + 2. * np.sqrt(len(self.source.data))\n",
    "                                     ) * 2.0 * np.sqrt(2) * np.mean(self.source.sigma)\n",
    "        else:\n",
    "            self.lambda_l1 = np.sqrt(len(self.source.data) + 2. * np.sqrt(len(self.source.data))\n",
    "                                     ) * np.sqrt(2) * np.mean(self.source.sigma)\n",
    "\n",
    "        if lambda_tv is None:\n",
    "            lambda_tv = 0.0\n",
    "\n",
    "        if lambda_tsv is None:\n",
    "            lambda_tsv = 0.0\n",
    "\n",
    "        if self.ftransform == \"nufft\":\n",
    "            nufft = NUFFT1D(dataset=self.source, parameter=self.parameter, solve=True)\n",
    "            if self.use_wavelet:\n",
    "                chi2 = Chi2(dft_obj=nufft, wavelet=self.wavelet)\n",
    "            else:\n",
    "                chi2 = Chi2(dft_obj=nufft)\n",
    "        else:\n",
    "            if self.use_wavelet:\n",
    "                chi2 = Chi2(dft_obj=dft, wavelet=self.wavelet)\n",
    "            else:\n",
    "                chi2 = Chi2(dft_obj=dft)\n",
    "\n",
    "        l1 = L1(reg=self.lambda_l1)\n",
    "        tsv = TSV(reg=lambda_tsv)\n",
    "        tv = TV(reg=lambda_tv)\n",
    "        F_func = [chi2, l1, tsv]\n",
    "        f_func = [chi2]\n",
    "        g_func = [l1, tsv]\n",
    "\n",
    "        F_obj = OFunction(F_func)\n",
    "        f_obj = OFunction(f_func)\n",
    "        g_obj = OFunction(g_func)\n",
    "\n",
    "        self.parameter.data = self.F_dirty\n",
    "\n",
    "        self.parameter.complex_data_to_real()\n",
    "\n",
    "        if self.use_wavelet:\n",
    "            self.parameter.data = self.wavelet.decompose(self.parameter.data)\n",
    "\n",
    "        opt = FISTA(\n",
    "            guess_param=self.parameter,\n",
    "            F_obj=F_obj,\n",
    "            fx=chi2,\n",
    "            gx=g_obj,\n",
    "            noise=self.source.theo_noise,\n",
    "            verbose=False\n",
    "        )\n",
    "        self.obj, self.X = opt.run()\n",
    "\n",
    "        if self.use_wavelet is not None:\n",
    "            self.coeffs = copy.deepcopy(self.X.data)\n",
    "            k = np.count_nonzero(self.coeffs)\n",
    "            self.sparsity = k / len(self.coeffs)\n",
    "            self.gini = gini_coefficient(self.coeffs)\n",
    "            self.X.data = self.wavelet.reconstruct(self.X.data)\n",
    "            self.aic, self.bic = aicbic(self.source.residual, self.coeffs)\n",
    "\n",
    "        else:\n",
    "            k = np.count_nonzero(self.X.data)\n",
    "            self.sparsity = k / len(self.X.data)\n",
    "            self.gini = gini_coefficient(self.X.data)\n",
    "            self.aic, self.bic = aicbic(self.source.residual, self.X.data)\n",
    "\n",
    "        self.X.real_data_to_complex()\n",
    "\n",
    "        self.X_residual = dft.backward(self.source.residual)\n",
    "\n",
    "        self.X_restored = self.X.convolve() + self.X_residual\n",
    "\n",
    "        self.res_noise = 0.5 * (np.std(self.X_residual.real) + np.std(self.X_residual.imag))\n",
    "        self.rmse = np.sqrt(\n",
    "            np.sum(self.source.residual.real**2 + self.source.residual.imag**2) /\n",
    "            (2 * len(self.source.residual))\n",
    "        )\n",
    "        meaningful_signal = np.where(np.abs(self.parameter.phi) < self.parameter.max_faraday_depth)\n",
    "        self.signal = np.mean(np.abs(self.X_restored[meaningful_signal]))\n",
    "        self.peak_signal = np.max(np.abs(self.X_restored))\n",
    "\n",
    "        self.snr = self.signal / self.res_noise\n",
    "        self.psnr = self.peak_signal / self.res_noise\n",
    "\n",
    "        print(\"Signal-to-noise ratio: {0}\".format(self.snr))\n",
    "        print(\"Peak Signal-to-noise ratio: {0}\".format(self.psnr))\n",
    "        print(\"Standard deviation: ({0})*10**-5\".format(self.res_noise * 10**5))\n",
    "        print(\"Root Mean Squared Error: ({0})*10**-5\".format(self.rmse * 10**5))\n",
    "        print(\"\\n\")\n",
    "        \"\"\"\n",
    "        \n",
    "        self.fig, self.ax = plt.subplots(nrows=2, ncols=4, sharey='row', figsize=(18, 5))\n",
    "\n",
    "        # Data\n",
    "        self.ax[0,0].plot(self.source.lambda2, self.source.data.real, 'k.', label=r\"Stokes $Q$\")\n",
    "        self.ax[0,0].plot(self.source.lambda2, self.source.data.imag, 'c.', label=r\"Stokes $U$\")\n",
    "        self.ax[0,0].plot(self.source.lambda2, np.abs(self.source.data), 'g.', label=r\"$|P|$\")\n",
    "        self.ax[0,0].set_xlabel(r'$\\lambda^2$[m$^{2}$]')\n",
    "        self.ax[0,0].set_ylabel(r'Jy/beam')\n",
    "        self.ax[0,0].title.set_text(\"Data\")\n",
    "\n",
    "        self.ax[1,0].plot(self.parameter.phi, self.F_dirty.real, 'c--', label=r\"Stokes $Q$\")\n",
    "        self.ax[1,0].plot(self.parameter.phi, self.F_dirty.imag, 'c:', label=r\"Stokes $U$\")\n",
    "        self.ax[1,0].plot(self.parameter.phi, np.abs(self.F_dirty), 'k-', label=r\"|P|\")\n",
    "        self.ax[1,0].set_xlabel(r'$\\phi$[rad m$^{-2}$]')\n",
    "        self.ax[1,0].set_ylabel(r'Jy/beam m$^2$ rad$^{-1}$ rmtf$^{-1}$')\n",
    "        self.ax[1,0].set_xlim([-1000,1000])\n",
    "\n",
    "        # Model\n",
    "        self.ax[0,1].plot(self.source.lambda2, self.source.model_data.real, 'k.', label=r\"Stokes $Q$\")\n",
    "        self.ax[0,1].plot(self.source.lambda2, self.source.model_data.imag, 'c.', label=r\"Stokes $U$\")\n",
    "        self.ax[0,1].plot(self.source.lambda2, np.abs(self.source.model_data), 'g.', label=r\"$|P|$\")\n",
    "        self.ax[0,1].set_xlabel(r'$\\lambda^2$[m$^{2}$]')\n",
    "        self.ax[0,1].set_ylabel(r'Jy/beam')\n",
    "        self.ax[0,1].title.set_text(\"Model\")\n",
    "\n",
    "        self.ax[1,1].get_shared_y_axes().remove(self.ax[1,1])\n",
    "        self.ax[1,1].clear()\n",
    "        self.ax[1,1].plot(self.parameter.phi, self.X.data.real, 'c--', label=r\"Stokes $Q$\")\n",
    "        self.ax[1,1].plot(self.parameter.phi, self.X.data.imag, 'c:', label=r\"Stokes $U$\")\n",
    "        self.ax[1,1].plot(self.parameter.phi, np.abs(self.X.data), 'k-', label=r\"$|P|$\")\n",
    "        self.ax[1,1].set_xlabel(r'$\\phi$[rad m$^{-2}$]')\n",
    "        self.ax[1,1].set_ylabel(r'Jy/beam m$^2$ rad$^{-1}$ pix$^{-1}$')\n",
    "        self.ax[1,1].set_xlim([-1000,1000])\n",
    "        \n",
    "        # Residual\n",
    "\n",
    "        self.ax[0,2].plot(self.source.lambda2, self.source.residual.real, 'k.', label=r\"Stokes $Q$\")\n",
    "        self.ax[0,2].plot(self.source.lambda2, self.source.residual.imag, 'c.', label=r\"Stokes $U$\")\n",
    "        self.ax[0,2].plot(self.source.lambda2, np.abs(self.source.residual), 'g.', label=r\"$|P|$\")\n",
    "        self.ax[0,2].set_xlabel(r'$\\lambda^2$[m$^{2}$]')\n",
    "        self.ax[0,2].set_ylabel(r'Jy/beam')\n",
    "        self.ax[0,2].title.set_text(\"Residual\")\n",
    "\n",
    "        self.ax[1,2].plot(self.parameter.phi, self.X_residual.real, 'c--', label=r\"Stokes $Q$\")\n",
    "        self.ax[1,2].plot(self.parameter.phi, self.X_residual.imag, 'c:', label=r\"Stokes $U$\")\n",
    "        self.ax[1,2].plot(self.parameter.phi, np.abs(self.X_residual), 'k-', label=r\"$|P|$\")\n",
    "        self.ax[1,2].set_xlabel(r'$\\phi$[rad m$^{-2}$]')\n",
    "        self.ax[1,2].set_ylabel(r'Jy/beam m$^2$ rad$^{-1}$ rmtf$^{-1}$')\n",
    "        self.ax[1,2].set_xlim([-1000,1000])\n",
    "        \n",
    "        if self.use_wavelet:\n",
    "            self.ax[0,3].get_shared_y_axes().remove(self.ax[0,3])\n",
    "            self.ax[0,3].clear()\n",
    "            self.ax[0,3].plot(self.coeffs)\n",
    "            self.ax[0,3].title.set_text(\"Coefficients\")\n",
    "\n",
    "        self.ax[1,3].plot(self.parameter.phi, self.X_restored.real, 'c--', label=r\"Stokes $Q$\")\n",
    "        self.ax[1,3].plot(self.parameter.phi, self.X_restored.imag, 'c:', label=r\"Stokes $U$\")\n",
    "        self.ax[1,3].plot(self.parameter.phi, np.abs(self.X_restored), 'k-', label=r\"$|P|$\")\n",
    "        self.ax[1,3].set_xlim([-1000,1000])\n",
    "        self.ax[1,3].set_xlabel(r'$\\phi$[rad m$^{-2}$]')\n",
    "        self.ax[1,3].set_ylabel(r'Jy/beam m$^2$ rad$^{-1}$ rmtf$^{-1}$')\n",
    "        self.ax[1,3].title.set_text(\"Restored\")\n",
    "        \n",
    "        self.fig.tight_layout()\n",
    "        \"\"\""
   ]
  },
  {
   "cell_type": "code",
   "execution_count": 8,
   "id": "dd9c11eb",
   "metadata": {
    "ExecuteTime": {
     "end_time": "2023-01-03T01:24:12.017347Z",
     "start_time": "2023-01-03T01:24:11.952463Z"
    },
    "pycharm": {
     "name": "#%%\n"
    }
   },
   "outputs": [],
   "source": [
    "def run_test(\n",
    "    source_1,\n",
    "    source_2,\n",
    "    nsigma,\n",
    "    remove_frac,\n",
    "    nu_min=1.008e9,\n",
    "    nu_max=2.031e9,\n",
    "    nchannels=1000,\n",
    "    scenario=1,\n",
    "    oversampling=8,\n",
    "    use_wavelet=None,\n",
    "    append_signal=False\n",
    "):\n",
    "    nosigma_objs = []\n",
    "    for remv_frac in remove_frac:\n",
    "        nosigma_objs.append(\n",
    "            Test(\n",
    "                nu_min=nu_min,\n",
    "                nu_max=nu_max,\n",
    "                nchannels=nchannels,\n",
    "                noise_frac=0.0,\n",
    "                remove_frac=remv_frac,\n",
    "                scenario=scenario,\n",
    "                oversampling=oversampling,\n",
    "                source_1=source_1,\n",
    "                source_2=source_2,\n",
    "                use_wavelet=use_wavelet,\n",
    "                append_signal=append_signal\n",
    "            )\n",
    "        )\n",
    "\n",
    "    test_objs = []\n",
    "    for nsig in nsigma:\n",
    "        for i in range(0, len(remove_frac)):\n",
    "            copy_object = copy.deepcopy(nosigma_objs[i])\n",
    "            copy_object.noise_frac = nsig\n",
    "            copy_object.apply_noise()\n",
    "            test_objs.append(copy_object)\n",
    "\n",
    "    del nosigma_objs\n",
    "\n",
    "    nid = len(nsigma) * len(remove_frac)\n",
    "    for _id in range(0, nid):\n",
    "        test_objs[_id].run()\n",
    "\n",
    "    return test_objs"
   ]
  },
  {
   "cell_type": "code",
   "execution_count": 9,
   "id": "edfe2e9b",
   "metadata": {
    "ExecuteTime": {
     "end_time": "2023-01-03T01:24:12.079109Z",
     "start_time": "2023-01-03T01:24:12.018387Z"
    },
    "pycharm": {
     "name": "#%%\n"
    }
   },
   "outputs": [],
   "source": [
    "# JVLA 1.008 - 2.031 GHz 546 channels\n",
    "# MeerKAT 0.9 GHz-1.420 GHz 546\n",
    "# eMERLIN 1.230 - 1.740 GHz 4096\n",
    "def run_tests(\n",
    "    source_1,\n",
    "    source_2,\n",
    "    nsigma,\n",
    "    remove_frac,\n",
    "    nsamples,\n",
    "    nu_min=1.008e9,\n",
    "    nu_max=2.031e9,\n",
    "    nchannels=1000,\n",
    "    scenario=1,\n",
    "    oversampling=8,\n",
    "    use_wavelet=None,\n",
    "    append_signal=False\n",
    "):\n",
    "    m = len(nsigma)\n",
    "    n = len(remove_frac)\n",
    "    psnrs = statistics(m, n, nsamples)\n",
    "    rmses = statistics(m, n, nsamples)\n",
    "    #noises = statistics(m, n, nsamples)\n",
    "    sparsities = statistics(m, n, nsamples)\n",
    "    #ginies = statistics(m, n, nsamples)\n",
    "    aics = statistics(m, n, nsamples)\n",
    "    bics = statistics(m, n, nsamples)\n",
    "\n",
    "    for i in range(0, nsamples):\n",
    "        test = run_test(\n",
    "            source_1,\n",
    "            source_2,\n",
    "            nsigma,\n",
    "            remove_frac,\n",
    "            nu_min=nu_min,\n",
    "            nu_max=nu_max,\n",
    "            nchannels=nchannels,\n",
    "            scenario=scenario,\n",
    "            oversampling=oversampling,\n",
    "            use_wavelet=use_wavelet,\n",
    "            append_signal=append_signal\n",
    "        )\n",
    "        psnrs.cumul(list_to2darray([x.psnr for x in test], n, dtype=np.float32))\n",
    "        #noises.cumul(list_to2darray([x.res_noise for x in test], n, dtype=np.float32))\n",
    "        sparsities.cumul(list_to2darray([x.sparsity * 100.0 for x in test], n, dtype=np.float32))\n",
    "        #ginies.cumul(list_to2darray([x.gini for x in test], n, dtype=np.float32))\n",
    "        rmses.cumul(list_to2darray([x.rmse for x in test], n, dtype=np.float32))\n",
    "        aics.cumul(list_to2darray([x.aic for x in test], n, dtype=np.float32))\n",
    "        bics.cumul(list_to2darray([x.bic for x in test], n, dtype=np.float32))\n",
    "        for t in test:\n",
    "            del t\n",
    "        test = []\n",
    "\n",
    "    psnr_mean, psnr_std = psnrs.mean(), psnrs.std()\n",
    "    rmse_mean, rmse_std = rmses.mean(), rmses.std()\n",
    "    #noise_mean, noise_std = noises.mean(), noises.std()\n",
    "    sparsity_mean, sparsity_std = sparsities.mean(), sparsities.std()\n",
    "    #gini_mean, gini_std = ginies.mean(), ginies.std()\n",
    "    aic_mean, aic_std = aics.mean(), aics.std()\n",
    "    bic_mean, bic_std = bics.mean(), bics.std()\n",
    "    return psnr_mean, psnr_std, rmse_mean, rmse_std, aic_mean, aic_std, bic_mean, bic_std, sparsity_mean, sparsity_std"
   ]
  },
  {
   "cell_type": "code",
   "execution_count": 10,
   "id": "2df5426b",
   "metadata": {
    "ExecuteTime": {
     "end_time": "2023-01-03T01:24:12.146053Z",
     "start_time": "2023-01-03T01:24:12.080136Z"
    },
    "pycharm": {
     "name": "#%%\n"
    }
   },
   "outputs": [],
   "source": [
    "source_1 = FaradayThinSource(s_nu=0.0555036, phi_gal=-500, spectral_idx=0.7)\n",
    "source_2 = FaradayThickSource(s_nu=0.06669743, phi_fg=100.0, phi_center=500, spectral_idx=0.7)"
   ]
  },
  {
   "cell_type": "code",
   "execution_count": 11,
   "id": "e7e34513",
   "metadata": {
    "ExecuteTime": {
     "end_time": "2023-01-03T01:24:12.202089Z",
     "start_time": "2023-01-03T01:24:12.148138Z"
    },
    "pycharm": {
     "name": "#%%\n"
    }
   },
   "outputs": [],
   "source": [
    "nsigma = [0.2]\n",
    "remove_frac = [0.3]\n",
    "scenarios = [1, 2, 3]"
   ]
  },
  {
   "cell_type": "code",
   "execution_count": 12,
   "id": "f9cc3e0e",
   "metadata": {
    "ExecuteTime": {
     "end_time": "2023-01-03T01:26:13.220355Z",
     "start_time": "2023-01-03T01:24:12.204015Z"
    },
    "pycharm": {
     "name": "#%%\n"
    }
   },
   "outputs": [
    {
     "name": "stdout",
     "output_type": "stream",
     "text": [
      "FWHM of the main peak of the RMTF: 122.585 rad/m^2\n",
      "Maximum recovered width structure: 109.058 rad/m^2\n",
      "Maximum Faraday Depth to which one has more than 50% sensitivity: 42843.457\n",
      "Convolving with Gaussian kernel where FWHM 122.585 rad/m^2 - pixels 4, sigma 52.057 rad/m^2 - pixels 2\n",
      "Signal-to-noise ratio: 2.0399547626149954\n",
      "Peak Signal-to-noise ratio: 386.10791966364496\n",
      "Standard deviation: (9.018839045893401)*10**-5\n",
      "Root Mean Squared Error: (249.4361995602856)*10**-5\n",
      "\n",
      "\n",
      "FWHM of the main peak of the RMTF: 124.217 rad/m^2\n",
      "Maximum recovered width structure: 107.670 rad/m^2\n",
      "Maximum Faraday Depth to which one has more than 50% sensitivity: 43413.780\n",
      "Convolving with Gaussian kernel where FWHM 124.217 rad/m^2 - pixels 5, sigma 52.750 rad/m^2 - pixels 2\n",
      "Signal-to-noise ratio: 1.6941334010793692\n",
      "Peak Signal-to-noise ratio: 222.38937673562816\n",
      "Standard deviation: (9.358319221064448)*10**-5\n",
      "Root Mean Squared Error: (248.3347872372818)*10**-5\n",
      "\n",
      "\n",
      "FWHM of the main peak of the RMTF: 124.217 rad/m^2\n",
      "Maximum recovered width structure: 107.670 rad/m^2\n",
      "Maximum Faraday Depth to which one has more than 50% sensitivity: 43413.780\n",
      "Convolving with Gaussian kernel where FWHM 124.217 rad/m^2 - pixels 5, sigma 52.750 rad/m^2 - pixels 2\n",
      "Signal-to-noise ratio: 1.6941334010793692\n",
      "Peak Signal-to-noise ratio: 222.38937673562816\n",
      "Standard deviation: (9.358319221064448)*10**-5\n",
      "Root Mean Squared Error: (248.3347872372818)*10**-5\n",
      "\n",
      "\n",
      "FWHM of the main peak of the RMTF: 122.585 rad/m^2\n",
      "Maximum recovered width structure: 109.058 rad/m^2\n",
      "Maximum Faraday Depth to which one has more than 50% sensitivity: 42843.457\n",
      "Convolving with Gaussian kernel where FWHM 122.585 rad/m^2 - pixels 4, sigma 52.057 rad/m^2 - pixels 2\n",
      "Signal-to-noise ratio: 2.011371731945257\n",
      "Peak Signal-to-noise ratio: 380.3442035568562\n",
      "Standard deviation: (9.132669947575778)*10**-5\n",
      "Root Mean Squared Error: (253.46882225546076)*10**-5\n",
      "\n",
      "\n",
      "FWHM of the main peak of the RMTF: 122.585 rad/m^2\n",
      "Maximum recovered width structure: 109.058 rad/m^2\n",
      "Maximum Faraday Depth to which one has more than 50% sensitivity: 42843.457\n",
      "Convolving with Gaussian kernel where FWHM 122.585 rad/m^2 - pixels 4, sigma 52.057 rad/m^2 - pixels 2\n",
      "Signal-to-noise ratio: 2.0451006331680657\n",
      "Peak Signal-to-noise ratio: 386.99196881736583\n",
      "Standard deviation: (8.934413199312985)*10**-5\n",
      "Root Mean Squared Error: (241.42654542865841)*10**-5\n",
      "\n",
      "\n",
      "FWHM of the main peak of the RMTF: 129.709 rad/m^2\n",
      "Maximum recovered width structure: 109.058 rad/m^2\n",
      "Maximum Faraday Depth to which one has more than 50% sensitivity: 45333.129\n",
      "Convolving with Gaussian kernel where FWHM 129.709 rad/m^2 - pixels 5, sigma 55.082 rad/m^2 - pixels 2\n",
      "Signal-to-noise ratio: 1.7553410632785096\n",
      "Peak Signal-to-noise ratio: 322.0954892426868\n",
      "Standard deviation: (8.723765495233238)*10**-5\n",
      "Root Mean Squared Error: (241.85445625065947)*10**-5\n",
      "\n",
      "\n",
      "FWHM of the main peak of the RMTF: 123.318 rad/m^2\n",
      "Maximum recovered width structure: 108.426 rad/m^2\n",
      "Maximum Faraday Depth to which one has more than 50% sensitivity: 43099.470\n",
      "Convolving with Gaussian kernel where FWHM 123.318 rad/m^2 - pixels 5, sigma 52.368 rad/m^2 - pixels 2\n",
      "Signal-to-noise ratio: 1.9500673061787637\n",
      "Peak Signal-to-noise ratio: 342.899754865983\n",
      "Standard deviation: (8.9552384451963)*10**-5\n",
      "Root Mean Squared Error: (243.78940228004896)*10**-5\n",
      "\n",
      "\n",
      "FWHM of the main peak of the RMTF: 123.318 rad/m^2\n",
      "Maximum recovered width structure: 108.426 rad/m^2\n",
      "Maximum Faraday Depth to which one has more than 50% sensitivity: 43099.470\n",
      "Convolving with Gaussian kernel where FWHM 123.318 rad/m^2 - pixels 5, sigma 52.368 rad/m^2 - pixels 2\n",
      "Signal-to-noise ratio: 1.9500673061787637\n",
      "Peak Signal-to-noise ratio: 342.899754865983\n",
      "Standard deviation: (8.9552384451963)*10**-5\n",
      "Root Mean Squared Error: (243.78940228004896)*10**-5\n",
      "\n",
      "\n",
      "FWHM of the main peak of the RMTF: 132.315 rad/m^2\n",
      "Maximum recovered width structure: 107.922 rad/m^2\n",
      "Maximum Faraday Depth to which one has more than 50% sensitivity: 46244.067\n",
      "Convolving with Gaussian kernel where FWHM 132.315 rad/m^2 - pixels 5, sigma 56.189 rad/m^2 - pixels 2\n",
      "Signal-to-noise ratio: 1.634499414668956\n",
      "Peak Signal-to-noise ratio: 160.5950525508796\n",
      "Standard deviation: (8.857387001626194)*10**-5\n",
      "Root Mean Squared Error: (242.91552674066264)*10**-5\n",
      "\n",
      "\n",
      "FWHM of the main peak of the RMTF: 125.457 rad/m^2\n",
      "Maximum recovered width structure: 109.058 rad/m^2\n",
      "Maximum Faraday Depth to which one has more than 50% sensitivity: 43847.092\n",
      "Convolving with Gaussian kernel where FWHM 125.457 rad/m^2 - pixels 5, sigma 53.277 rad/m^2 - pixels 2\n",
      "Signal-to-noise ratio: 1.8283490629386367\n",
      "Peak Signal-to-noise ratio: 325.3931548441123\n",
      "Standard deviation: (9.066698112292215)*10**-5\n",
      "Root Mean Squared Error: (238.24355354320411)*10**-5\n",
      "\n",
      "\n",
      "FWHM of the main peak of the RMTF: 122.585 rad/m^2\n",
      "Maximum recovered width structure: 109.058 rad/m^2\n",
      "Maximum Faraday Depth to which one has more than 50% sensitivity: 42843.457\n",
      "Convolving with Gaussian kernel where FWHM 122.585 rad/m^2 - pixels 4, sigma 52.057 rad/m^2 - pixels 2\n",
      "Signal-to-noise ratio: 2.064388344107631\n",
      "Peak Signal-to-noise ratio: 396.2432216132556\n",
      "Standard deviation: (8.88249633135274)*10**-5\n",
      "Root Mean Squared Error: (245.61251160206675)*10**-5\n",
      "\n",
      "\n",
      "FWHM of the main peak of the RMTF: 122.585 rad/m^2\n",
      "Maximum recovered width structure: 109.058 rad/m^2\n",
      "Maximum Faraday Depth to which one has more than 50% sensitivity: 42843.457\n",
      "Convolving with Gaussian kernel where FWHM 122.585 rad/m^2 - pixels 4, sigma 52.057 rad/m^2 - pixels 2\n",
      "Signal-to-noise ratio: 2.0645528528957615\n",
      "Peak Signal-to-noise ratio: 394.22199030835594\n",
      "Standard deviation: (8.825141412671655)*10**-5\n",
      "Root Mean Squared Error: (242.3878030919862)*10**-5\n",
      "\n",
      "\n",
      "FWHM of the main peak of the RMTF: 122.585 rad/m^2\n",
      "Maximum recovered width structure: 109.058 rad/m^2\n",
      "Maximum Faraday Depth to which one has more than 50% sensitivity: 42843.457\n",
      "Convolving with Gaussian kernel where FWHM 122.585 rad/m^2 - pixels 4, sigma 52.057 rad/m^2 - pixels 2\n",
      "Signal-to-noise ratio: 2.0645528528957615\n",
      "Peak Signal-to-noise ratio: 394.22199030835594\n",
      "Standard deviation: (8.825141412671655)*10**-5\n",
      "Root Mean Squared Error: (242.3878030919862)*10**-5\n",
      "\n",
      "\n",
      "FWHM of the main peak of the RMTF: 123.915 rad/m^2\n",
      "Maximum recovered width structure: 107.922 rad/m^2\n",
      "Maximum Faraday Depth to which one has more than 50% sensitivity: 43308.134\n",
      "Convolving with Gaussian kernel where FWHM 123.915 rad/m^2 - pixels 5, sigma 52.622 rad/m^2 - pixels 2\n",
      "Signal-to-noise ratio: 1.6271404205464952\n",
      "Peak Signal-to-noise ratio: 155.04122140720833\n",
      "Standard deviation: (9.4514325610362)*10**-5\n",
      "Root Mean Squared Error: (250.88080672671262)*10**-5\n",
      "\n",
      "\n",
      "FWHM of the main peak of the RMTF: 127.241 rad/m^2\n",
      "Maximum recovered width structure: 106.104 rad/m^2\n",
      "Maximum Faraday Depth to which one has more than 50% sensitivity: 44470.897\n",
      "Convolving with Gaussian kernel where FWHM 127.241 rad/m^2 - pixels 5, sigma 54.034 rad/m^2 - pixels 2\n",
      "Signal-to-noise ratio: 1.9957500204266496\n",
      "Peak Signal-to-noise ratio: 393.84168852363797\n",
      "Standard deviation: (9.052555105881765)*10**-5\n",
      "Root Mean Squared Error: (243.44108792979233)*10**-5\n",
      "\n",
      "\n",
      "FWHM of the main peak of the RMTF: 139.805 rad/m^2\n",
      "Maximum recovered width structure: 106.479 rad/m^2\n",
      "Maximum Faraday Depth to which one has more than 50% sensitivity: 48861.775\n",
      "Convolving with Gaussian kernel where FWHM 139.805 rad/m^2 - pixels 5, sigma 59.370 rad/m^2 - pixels 2\n",
      "Signal-to-noise ratio: 2.143046094458481\n",
      "Peak Signal-to-noise ratio: 513.3479970991964\n",
      "Standard deviation: (8.951984636951238)*10**-5\n",
      "Root Mean Squared Error: (241.1530379293143)*10**-5\n",
      "\n",
      "\n",
      "FWHM of the main peak of the RMTF: 139.805 rad/m^2\n",
      "Maximum recovered width structure: 106.479 rad/m^2\n",
      "Maximum Faraday Depth to which one has more than 50% sensitivity: 48861.775\n",
      "Convolving with Gaussian kernel where FWHM 139.805 rad/m^2 - pixels 5, sigma 59.370 rad/m^2 - pixels 2\n",
      "Signal-to-noise ratio: 2.143046094458481\n",
      "Peak Signal-to-noise ratio: 513.3479970991964\n",
      "Standard deviation: (8.951984636951238)*10**-5\n",
      "Root Mean Squared Error: (241.1530379293143)*10**-5\n",
      "\n",
      "\n",
      "FWHM of the main peak of the RMTF: 123.601 rad/m^2\n",
      "Maximum recovered width structure: 109.058 rad/m^2\n",
      "Maximum Faraday Depth to which one has more than 50% sensitivity: 43198.539\n",
      "Convolving with Gaussian kernel where FWHM 123.601 rad/m^2 - pixels 5, sigma 52.488 rad/m^2 - pixels 2\n",
      "Signal-to-noise ratio: 2.128731435057934\n",
      "Peak Signal-to-noise ratio: 423.5392410390357\n",
      "Standard deviation: (9.381557174492627)*10**-5\n",
      "Root Mean Squared Error: (255.19714133380936)*10**-5\n",
      "\n",
      "\n",
      "FWHM of the main peak of the RMTF: 133.228 rad/m^2\n",
      "Maximum recovered width structure: 105.170 rad/m^2\n",
      "Maximum Faraday Depth to which one has more than 50% sensitivity: 46563.018\n"
     ]
    },
    {
     "name": "stdout",
     "output_type": "stream",
     "text": [
      "Convolving with Gaussian kernel where FWHM 133.228 rad/m^2 - pixels 5, sigma 56.577 rad/m^2 - pixels 2\n",
      "Signal-to-noise ratio: 1.8741322825741349\n",
      "Peak Signal-to-noise ratio: 427.5949770616277\n",
      "Standard deviation: (8.908956806408241)*10**-5\n",
      "Root Mean Squared Error: (239.9256984777045)*10**-5\n",
      "\n",
      "\n",
      "FWHM of the main peak of the RMTF: 122.585 rad/m^2\n",
      "Maximum recovered width structure: 109.058 rad/m^2\n",
      "Maximum Faraday Depth to which one has more than 50% sensitivity: 42843.457\n",
      "Convolving with Gaussian kernel where FWHM 122.585 rad/m^2 - pixels 4, sigma 52.057 rad/m^2 - pixels 2\n",
      "Signal-to-noise ratio: 1.9775429755952918\n",
      "Peak Signal-to-noise ratio: 373.8681327359829\n",
      "Standard deviation: (9.17026336537674)*10**-5\n",
      "Root Mean Squared Error: (244.6371179031102)*10**-5\n",
      "\n",
      "\n",
      "FWHM of the main peak of the RMTF: 122.585 rad/m^2\n",
      "Maximum recovered width structure: 109.058 rad/m^2\n",
      "Maximum Faraday Depth to which one has more than 50% sensitivity: 42843.457\n",
      "Convolving with Gaussian kernel where FWHM 122.585 rad/m^2 - pixels 4, sigma 52.057 rad/m^2 - pixels 2\n",
      "Signal-to-noise ratio: 2.017715334303977\n",
      "Peak Signal-to-noise ratio: 382.29921956073457\n",
      "Standard deviation: (9.15198033908382)*10**-5\n",
      "Root Mean Squared Error: (251.30389610626258)*10**-5\n",
      "\n",
      "\n",
      "FWHM of the main peak of the RMTF: 122.585 rad/m^2\n",
      "Maximum recovered width structure: 109.058 rad/m^2\n",
      "Maximum Faraday Depth to "
     ]
    },
    {
     "data": {
      "text/html": [
       "<b>limit_output extension: Maximum message size of 10000 exceeded with 10051 characters</b>"
      ]
     },
     "metadata": {},
     "output_type": "display_data"
    }
   ],
   "source": [
    "names = [\"PSNR\", \"RMSE\", \"AIC\", \"BIC\"]\n",
    "samples = 50\n",
    "scenarios_means = np.empty((3, len(names)), dtype=np.float32)\n",
    "scenarios_stds = np.empty((3, len(names)), dtype=np.float32)\n",
    "\n",
    "append_signal = False\n",
    "\n",
    "for i in range(len(scenarios)):\n",
    "    psnr_mean, psnr_std, rmse_mean, rmse_std, aic_mean, aic_std, bic_mean, bic_std, sparsity_mean, sparsity_std = run_tests(\n",
    "        source_1,\n",
    "        source_2,\n",
    "        nsigma,\n",
    "        remove_frac,\n",
    "        samples,\n",
    "        scenario=scenarios[i],\n",
    "        use_wavelet=None,\n",
    "        append_signal=append_signal,\n",
    "        oversampling=12,\n",
    "        nu_min=1.25446e9,\n",
    "        nu_max=1.76634e9\n",
    "    )\n",
    "    scenarios_means[i, 0] = psnr_mean\n",
    "    scenarios_means[i, 1] = rmse_mean\n",
    "    scenarios_means[i, 2] = aic_mean\n",
    "    scenarios_means[i, 3] = bic_mean\n",
    "\n",
    "    scenarios_stds[i, 0] = psnr_std\n",
    "    scenarios_stds[i, 1] = rmse_std\n",
    "    scenarios_stds[i, 2] = aic_std\n",
    "    scenarios_stds[i, 3] = bic_std"
   ]
  },
  {
   "cell_type": "code",
   "execution_count": 13,
   "id": "fc6a8ad2",
   "metadata": {
    "ExecuteTime": {
     "end_time": "2023-01-03T01:26:13.227331Z",
     "start_time": "2023-01-03T01:26:13.224316Z"
    },
    "pycharm": {
     "name": "#%%\n"
    }
   },
   "outputs": [],
   "source": [
    "radiotelescope = \"emerlin\"\n",
    "np.save(\"deltaf_\" + radiotelescope + \"_scenarios_means_nolambda0.npy\", scenarios_means)\n",
    "np.save(\"deltaf_\" + radiotelescope + \"_scenarios_stds_nolambda0.npy\", scenarios_stds)"
   ]
  },
  {
   "cell_type": "code",
   "execution_count": 14,
   "id": "7dc585af",
   "metadata": {
    "ExecuteTime": {
     "end_time": "2023-01-03T01:26:13.303280Z",
     "start_time": "2023-01-03T01:26:13.228741Z"
    },
    "pycharm": {
     "name": "#%%\n"
    }
   },
   "outputs": [
    {
     "name": "stdout",
     "output_type": "stream",
     "text": [
      "Scenario 1: Best AIC Delta function basis : -16330.55 \\pm 109.43\n",
      "Scenario 2: Best AIC Delta function basis : -16634.96 \\pm 117.15\n",
      "Scenario 3: Best AIC Delta function basis : -16277.85 \\pm 96.37\n"
     ]
    }
   ],
   "source": [
    "print(\n",
    "    \"Scenario 1: Best AIC Delta function basis : {0:.2f} \\pm {1:.2f}\".format(\n",
    "        scenarios_means[0, 2], scenarios_stds[0, 2]\n",
    "    )\n",
    ")\n",
    "print(\n",
    "    \"Scenario 2: Best AIC Delta function basis : {0:.2f} \\pm {1:.2f}\".format(\n",
    "        scenarios_means[1, 2], scenarios_stds[1, 2]\n",
    "    )\n",
    ")\n",
    "print(\n",
    "    \"Scenario 3: Best AIC Delta function basis : {0:.2f} \\pm {1:.2f}\".format(\n",
    "        scenarios_means[2, 2], scenarios_stds[2, 2]\n",
    "    )\n",
    ")"
   ]
  },
  {
   "cell_type": "code",
   "execution_count": 15,
   "id": "4b5b430f",
   "metadata": {
    "ExecuteTime": {
     "end_time": "2023-01-03T01:26:13.351965Z",
     "start_time": "2023-01-03T01:26:13.304396Z"
    },
    "pycharm": {
     "name": "#%%\n"
    }
   },
   "outputs": [
    {
     "name": "stdout",
     "output_type": "stream",
     "text": [
      "Scenario 1: Best BIC Delta function basis : -15003.87 \\pm 412.83\n",
      "Scenario 2: Best BIC Delta function basis : -15570.49 \\pm 407.40\n",
      "Scenario 3: Best BIC Delta function basis : -14829.92 \\pm 369.06\n"
     ]
    }
   ],
   "source": [
    "print(\n",
    "    \"Scenario 1: Best BIC Delta function basis : {0:.2f} \\pm {1:.2f}\".format(\n",
    "        scenarios_means[0, 3], scenarios_stds[0, 3]\n",
    "    )\n",
    ")\n",
    "print(\n",
    "    \"Scenario 2: Best BIC Delta function basis : {0:.2f} \\pm {1:.2f}\".format(\n",
    "        scenarios_means[1, 3], scenarios_stds[1, 3]\n",
    "    )\n",
    ")\n",
    "print(\n",
    "    \"Scenario 3: Best BIC Delta function basis : {0:.2f} \\pm {1:.2f}\".format(\n",
    "        scenarios_means[2, 3], scenarios_stds[2, 3]\n",
    "    )\n",
    ")"
   ]
  },
  {
   "cell_type": "code",
   "execution_count": 16,
   "id": "4e5884f9",
   "metadata": {
    "ExecuteTime": {
     "end_time": "2023-01-03T01:26:13.400203Z",
     "start_time": "2023-01-03T01:26:13.353253Z"
    },
    "pycharm": {
     "name": "#%%\n"
    }
   },
   "outputs": [
    {
     "name": "stdout",
     "output_type": "stream",
     "text": [
      "Scenario 1: Best PSNR Delta function basis : 350.93 \\pm 86.08\n",
      "Scenario 2: Best PSNR Delta function basis : 59.35 \\pm 14.03\n",
      "Scenario 3: Best PSNR Delta function basis : 352.26 \\pm 73.09\n"
     ]
    }
   ],
   "source": [
    "print(\n",
    "    \"Scenario 1: Best PSNR Delta function basis : {0:.2f} \\pm {1:.2f}\".format(\n",
    "        scenarios_means[0, 0], scenarios_stds[0, 0]\n",
    "    )\n",
    ")\n",
    "print(\n",
    "    \"Scenario 2: Best PSNR Delta function basis : {0:.2f} \\pm {1:.2f}\".format(\n",
    "        scenarios_means[1, 0], scenarios_stds[1, 0]\n",
    "    )\n",
    ")\n",
    "print(\n",
    "    \"Scenario 3: Best PSNR Delta function basis : {0:.2f} \\pm {1:.2f}\".format(\n",
    "        scenarios_means[2, 0], scenarios_stds[2, 0]\n",
    "    )\n",
    ")"
   ]
  },
  {
   "cell_type": "code",
   "execution_count": 17,
   "id": "29307609",
   "metadata": {
    "ExecuteTime": {
     "end_time": "2023-01-03T01:26:13.461391Z",
     "start_time": "2023-01-03T01:26:13.401866Z"
    },
    "pycharm": {
     "name": "#%%\n"
    }
   },
   "outputs": [
    {
     "name": "stdout",
     "output_type": "stream",
     "text": [
      "Scenario 1: Best RMSE Delta function basis : 244.71 \\pm 4.94\n",
      "Scenario 2: Best RMSE Delta function basis : 227.48 \\pm 4.09\n",
      "Scenario 3: Best RMSE Delta function basis : 245.27 \\pm 4.36\n"
     ]
    }
   ],
   "source": [
    "print(\n",
    "    \"Scenario 1: Best RMSE Delta function basis : {0:.2f} \\pm {1:.2f}\".format(\n",
    "        scenarios_means[0, 1] * 10**5, scenarios_stds[0, 1] * 10**5\n",
    "    )\n",
    ")\n",
    "print(\n",
    "    \"Scenario 2: Best RMSE Delta function basis : {0:.2f} \\pm {1:.2f}\".format(\n",
    "        scenarios_means[1, 1] * 10**5, scenarios_stds[1, 1] * 10**5\n",
    "    )\n",
    ")\n",
    "print(\n",
    "    \"Scenario 3: Best RMSE Delta function basis : {0:.2f} \\pm {1:.2f}\".format(\n",
    "        scenarios_means[2, 1] * 10**5, scenarios_stds[2, 1] * 10**5\n",
    "    )\n",
    ")"
   ]
  },
  {
   "cell_type": "code",
   "execution_count": null,
   "id": "5f973048",
   "metadata": {
    "pycharm": {
     "name": "#%%\n"
    }
   },
   "outputs": [],
   "source": []
  }
 ],
 "metadata": {
  "kernelspec": {
   "display_name": "Python 3 (ipykernel)",
   "language": "python",
   "name": "python3"
  },
  "language_info": {
   "codemirror_mode": {
    "name": "ipython",
    "version": 3
   },
   "file_extension": ".py",
   "mimetype": "text/x-python",
   "name": "python",
   "nbconvert_exporter": "python",
   "pygments_lexer": "ipython3",
   "version": "3.9.13"
  },
  "latex_envs": {
   "LaTeX_envs_menu_present": true,
   "autoclose": false,
   "autocomplete": true,
   "bibliofile": "biblio.bib",
   "cite_by": "apalike",
   "current_citInitial": 1,
   "eqLabelWithNumbers": true,
   "eqNumInitial": 1,
   "hotkeys": {
    "equation": "Ctrl-E",
    "itemize": "Ctrl-I"
   },
   "labels_anchors": false,
   "latex_user_defs": false,
   "report_style_numbering": false,
   "user_envs_cfg": false
  },
  "toc": {
   "base_numbering": 1,
   "nav_menu": {},
   "number_sections": true,
   "sideBar": true,
   "skip_h1_title": false,
   "title_cell": "Table of Contents",
   "title_sidebar": "Contents",
   "toc_cell": false,
   "toc_position": {},
   "toc_section_display": true,
   "toc_window_display": false
  },
  "varInspector": {
   "cols": {
    "lenName": 16,
    "lenType": 16,
    "lenVar": 40
   },
   "kernels_config": {
    "python": {
     "delete_cmd_postfix": "",
     "delete_cmd_prefix": "del ",
     "library": "var_list.py",
     "varRefreshCmd": "print(var_dic_list())"
    },
    "r": {
     "delete_cmd_postfix": ") ",
     "delete_cmd_prefix": "rm(",
     "library": "var_list.r",
     "varRefreshCmd": "cat(var_dic_list()) "
    }
   },
   "types_to_exclude": [
    "module",
    "function",
    "builtin_function_or_method",
    "instance",
    "_Feature"
   ],
   "window_display": false
  }
 },
 "nbformat": 4,
 "nbformat_minor": 5
}
