{
 "cells": [
  {
   "cell_type": "code",
   "execution_count": 1,
   "id": "daa033e5",
   "metadata": {
    "ExecuteTime": {
     "end_time": "2021-12-17T20:43:16.050043Z",
     "start_time": "2021-12-17T20:43:15.443607Z"
    }
   },
   "outputs": [],
   "source": [
    "import astropy.units as un\n",
    "import matplotlib.pyplot as plt\n",
    "import numpy as np\n",
    "from astropy.coordinates import SkyCoord\n",
    "from astropy.io import fits\n",
    "from astropy.stats import median_absolute_deviation as mad\n",
    "from astropy.units import Quantity\n",
    "from astropy.wcs import WCS"
   ]
  },
  {
   "cell_type": "code",
   "execution_count": 2,
   "id": "91c94b2b",
   "metadata": {
    "ExecuteTime": {
     "end_time": "2021-12-17T20:43:16.053721Z",
     "start_time": "2021-12-17T20:43:16.050676Z"
    }
   },
   "outputs": [],
   "source": [
    "def get_lims(wcs: WCS = None, radius: Quantity = None, center_coord: SkyCoord = None):\n",
    "    if isinstance(radius, Quantity):\n",
    "        if radius.isscalar:\n",
    "            radius_x = radius_y = radius\n",
    "        else:\n",
    "            radius_x = radius[0]\n",
    "            radius_y = radius[1]\n",
    "\n",
    "    else:\n",
    "        if isinstance(radius, list):\n",
    "            radius_x = radius[0] * un.deg\n",
    "            radius_y = radius[1] * un.deg\n",
    "        else:\n",
    "            radius_x = radius_y = radius * un.deg\n",
    "\n",
    "    left_corner = SkyCoord(ra=center_coord.ra - radius_x, dec=center_coord.dec - radius_y)\n",
    "    right_corner = SkyCoord(ra=center_coord.ra + radius_x, dec=center_coord.dec + radius_y)\n",
    "    left, up = left_corner.to_pixel(wcs, origin=0)\n",
    "    right, down = right_corner.to_pixel(wcs, origin=0)\n",
    "    xlim = [int(right), int(left)]\n",
    "    ylim = [int(up), int(down)]\n",
    "    return xlim, ylim"
   ]
  },
  {
   "cell_type": "code",
   "execution_count": 3,
   "id": "00f39775",
   "metadata": {
    "ExecuteTime": {
     "end_time": "2021-12-17T20:43:16.104938Z",
     "start_time": "2021-12-17T20:43:16.054573Z"
    }
   },
   "outputs": [],
   "source": [
    "rm_hdu = fits.open(\n",
    "    \"/home/miguel/Documents/datasets/A1314_JVLA/mfs/rm_images/max_faraday_depth.fits\"\n",
    ")[0]\n",
    "p_hdu = fits.open(\n",
    "    \"/home/miguel/Documents/datasets/A1314_JVLA/mfs/rm_images/max_rotated_intensity.fits\"\n",
    ")[0]\n",
    "sigma_qu_hdu = fits.open(\n",
    "    \"/home/miguel/Documents/datasets/A1314_JVLA/mfs/rm_images/sigma_qu_faraday.fits\"\n",
    ")[0]\n",
    "sigma_phi_hdu = fits.open(\n",
    "    \"/home/miguel/Documents/datasets/A1314_JVLA/mfs/rm_images/sigma_phi_peak.fits\"\n",
    ")[0]"
   ]
  },
  {
   "cell_type": "code",
   "execution_count": 4,
   "id": "db0b06b6",
   "metadata": {
    "ExecuteTime": {
     "end_time": "2021-12-17T20:43:16.151013Z",
     "start_time": "2021-12-17T20:43:16.105430Z"
    }
   },
   "outputs": [],
   "source": [
    "#center_coord = SkyCoord(ra=173.705 * un.deg,dec=49.077 *un.deg, frame=\"fk5\") # Center Source\n",
    "#center_coord = SkyCoord(ra=173.479 * un.deg,dec=49.064 *un.deg, frame=\"fk5\") # C-W Source\n",
    "#center_coord = SkyCoord(ra=173.654 * un.deg,dec=48.978 *un.deg, frame=\"fk5\") # C-S Extended\n",
    "#center_coord = SkyCoord(ra=173.453 * un.deg,dec=48.985 *un.deg, frame=\"fk5\") # S-W Source\n",
    "center_coord = SkyCoord(ra=173.803 * un.deg, dec=48.966 * un.deg, frame=\"fk5\")  # S-E Source"
   ]
  },
  {
   "cell_type": "code",
   "execution_count": 5,
   "id": "86927f35",
   "metadata": {
    "ExecuteTime": {
     "end_time": "2021-12-17T20:43:16.217339Z",
     "start_time": "2021-12-17T20:43:16.151530Z"
    }
   },
   "outputs": [
    {
     "name": "stderr",
     "output_type": "stream",
     "text": [
      "WARNING: FITSFixedWarning: 'obsfix' made the change 'Set OBSGEO-L to  -107.618000 from OBSGEO-[XYZ].\n",
      "Set OBSGEO-B to    34.078827 from OBSGEO-[XYZ].\n",
      "Set OBSGEO-H to     2115.607 from OBSGEO-[XYZ]'. [astropy.wcs.wcs]\n"
     ]
    }
   ],
   "source": [
    "wcs = WCS(rm_hdu.header, naxis=2)"
   ]
  },
  {
   "cell_type": "code",
   "execution_count": 6,
   "id": "799fef8a",
   "metadata": {
    "ExecuteTime": {
     "end_time": "2021-12-17T20:43:16.307391Z",
     "start_time": "2021-12-17T20:43:16.217875Z"
    }
   },
   "outputs": [],
   "source": [
    "rm = rm_hdu.data\n",
    "p = p_hdu.data\n",
    "sigma_qu = sigma_qu_hdu.data\n",
    "sigma_phi = sigma_phi_hdu.data"
   ]
  },
  {
   "cell_type": "code",
   "execution_count": 7,
   "id": "294baf8b",
   "metadata": {
    "ExecuteTime": {
     "end_time": "2021-12-17T20:43:16.342020Z",
     "start_time": "2021-12-17T20:43:16.307931Z"
    }
   },
   "outputs": [],
   "source": [
    "rm = np.where(p > 6 * sigma_qu, rm, np.nan)\n",
    "sigma_phi = np.where(p > 6 * sigma_qu, sigma_phi, np.nan)"
   ]
  },
  {
   "cell_type": "code",
   "execution_count": 8,
   "id": "c7956ef8",
   "metadata": {
    "ExecuteTime": {
     "end_time": "2021-12-17T20:43:16.386454Z",
     "start_time": "2021-12-17T20:43:16.342650Z"
    }
   },
   "outputs": [],
   "source": [
    "x_lim, y_lim = get_lims(wcs, radius=0.02 * un.deg, center_coord=center_coord)"
   ]
  },
  {
   "cell_type": "code",
   "execution_count": 9,
   "id": "c878f1d0",
   "metadata": {
    "ExecuteTime": {
     "end_time": "2021-12-17T20:43:16.440164Z",
     "start_time": "2021-12-17T20:43:16.387021Z"
    }
   },
   "outputs": [],
   "source": [
    "rm = rm[y_lim[0]:y_lim[1], x_lim[0]:x_lim[1]]\n",
    "sigma_phi = sigma_phi[y_lim[0]:y_lim[1], x_lim[0]:x_lim[1]]"
   ]
  },
  {
   "cell_type": "code",
   "execution_count": 10,
   "id": "55ca5d04",
   "metadata": {
    "ExecuteTime": {
     "end_time": "2021-12-17T20:43:16.782605Z",
     "start_time": "2021-12-17T20:43:16.440668Z"
    }
   },
   "outputs": [
    {
     "data": {
      "image/png": "[encoded data removed]",
      "text/plain": [
       "<Figure size 432x288 with 1 Axes>"
      ]
     },
     "metadata": {
      "needs_background": "light"
     },
     "output_type": "display_data"
    }
   ],
   "source": [
    "ax = plt.subplot(projection=wcs)\n",
    "ax.imshow(rm)\n",
    "#ax.set_xlim(x_lim[1], x_lim[0])\n",
    "#ax.set_ylim(y_lim[1], y_lim[0])\n",
    "plt.show()"
   ]
  },
  {
   "cell_type": "code",
   "execution_count": 11,
   "id": "016991cc",
   "metadata": {
    "ExecuteTime": {
     "end_time": "2021-12-17T20:43:16.786404Z",
     "start_time": "2021-12-17T20:43:16.783969Z"
    }
   },
   "outputs": [],
   "source": [
    "avg_rm = np.nanmean(rm)\n",
    "med_rm = np.nanmedian(rm)\n",
    "mad_rm = np.nanmedian(np.abs(rm - np.nanmedian(rm)))\n",
    "sigma_rm_obs = np.nanstd(rm)\n",
    "med_sigma_phi = np.nanmedian(sigma_phi)\n",
    "sigma_rm = np.sqrt(sigma_rm_obs**2 - med_sigma_phi**2)"
   ]
  },
  {
   "cell_type": "code",
   "execution_count": 12,
   "id": "6773ae66",
   "metadata": {
    "ExecuteTime": {
     "end_time": "2021-12-17T20:43:16.841336Z",
     "start_time": "2021-12-17T20:43:16.786918Z"
    }
   },
   "outputs": [
    {
     "name": "stdout",
     "output_type": "stream",
     "text": [
      "<RM> : 22.987\n",
      "med(RM): 19.754\n",
      "MAD(RM): 0.000\n",
      "sigma(RM)_obs:  4.408\n",
      "sigma(RM): 4.350\n",
      "med(sigma_phi): 0.711\n"
     ]
    }
   ],
   "source": [
    "print(\"<RM> : {0:.3f}\".format(avg_rm))\n",
    "print(\"med(RM): {0:.3f}\".format(med_rm))\n",
    "print(\"MAD(RM): {0:.3f}\".format(mad_rm))\n",
    "print(\"sigma(RM)_obs: {0: .3f}\".format(sigma_rm_obs))\n",
    "print(\"sigma(RM): {0:.3f}\".format(sigma_rm))\n",
    "print(\"med(sigma_phi): {0:.3f}\".format(med_sigma_phi))"
   ]
  }
 ],
 "metadata": {
  "kernelspec": {
   "display_name": "Python 3 (ipykernel)",
   "language": "python",
   "name": "python3"
  },
  "language_info": {
   "codemirror_mode": {
    "name": "ipython",
    "version": 3
   },
   "file_extension": ".py",
   "mimetype": "text/x-python",
   "name": "python",
   "nbconvert_exporter": "python",
   "pygments_lexer": "ipython3",
   "version": "3.10.4"
  },
  "latex_envs": {
   "LaTeX_envs_menu_present": true,
   "autoclose": false,
   "autocomplete": true,
   "bibliofile": "biblio.bib",
   "cite_by": "apalike",
   "current_citInitial": 1,
   "eqLabelWithNumbers": true,
   "eqNumInitial": 1,
   "hotkeys": {
    "equation": "Ctrl-E",
    "itemize": "Ctrl-I"
   },
   "labels_anchors": false,
   "latex_user_defs": false,
   "report_style_numbering": false,
   "user_envs_cfg": false
  },
  "varInspector": {
   "cols": {
    "lenName": 16,
    "lenType": 16,
    "lenVar": 40
   },
   "kernels_config": {
    "python": {
     "delete_cmd_postfix": "",
     "delete_cmd_prefix": "del ",
     "library": "var_list.py",
     "varRefreshCmd": "print(var_dic_list())"
    },
    "r": {
     "delete_cmd_postfix": ") ",
     "delete_cmd_prefix": "rm(",
     "library": "var_list.r",
     "varRefreshCmd": "cat(var_dic_list()) "
    }
   },
   "types_to_exclude": [
    "module",
    "function",
    "builtin_function_or_method",
    "instance",
    "_Feature"
   ],
   "window_display": false
  }
 },
 "nbformat": 4,
 "nbformat_minor": 5
}
